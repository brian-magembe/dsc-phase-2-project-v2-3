{
 "cells": [
  {
   "cell_type": "markdown",
   "metadata": {},
   "source": [
    "## Final Project Submission\n",
    "\n",
    "Please fill out:\n",
    "* Student name: MAGEMBE BRIAN NYAMBANE\n",
    "* Student pace:  full time\n",
    "* Scheduled project review date/time: \n",
    "* Instructor name: \n",
    "* Blog post URL:\n"
   ]
  },
  {
   "cell_type": "markdown",
   "metadata": {},
   "source": [
    "# 1. Business Understanding"
   ]
  },
  {
   "cell_type": "markdown",
   "metadata": {},
   "source": [
    "### 1.1 Understanding the problem"
   ]
  },
  {
   "cell_type": "markdown",
   "metadata": {},
   "source": [
    "Here, a data scientist's responsibility is to find out what factors are most likely to have an impact on home prices. They also look closely at how the variables affect home prices and how much they will impact the stakeholders in the housing market. This is really important because before real estate investors make a decision, they need think about whether the investment will be profitable or not. Data scientists are consequently required to conduct important evaluations and analyses to identify the crucial variables and their influence on investment decisions. Instead of repeatedly going through the process, after careful study, a predictive model that will be utilized to assist new investors entering the market should be constructed."
   ]
  },
  {
   "cell_type": "markdown",
   "metadata": {},
   "source": [
    "# 1.2 Problem Statement"
   ]
  },
  {
   "cell_type": "markdown",
   "metadata": {},
   "source": [
    "The problem of this study is to uncover the factors that affect pricing and how they affect housing prices. Once the factors influencing house prices are identified, then they are examined how they influence pricing of house."
   ]
  },
  {
   "cell_type": "markdown",
   "metadata": {},
   "source": [
    "# 2. Data Understanding"
   ]
  },
  {
   "cell_type": "markdown",
   "metadata": {},
   "source": [
    "# 2.1 Data collection \n",
    "\n",
    "Secondary data from King County House Sales has been employed to be used in this project as \"kc_house_data.scv\"."
   ]
  },
  {
   "cell_type": "code",
   "execution_count": 2,
   "metadata": {},
   "outputs": [
    {
     "data": {
      "text/html": [
       "<div>\n",
       "<style scoped>\n",
       "    .dataframe tbody tr th:only-of-type {\n",
       "        vertical-align: middle;\n",
       "    }\n",
       "\n",
       "    .dataframe tbody tr th {\n",
       "        vertical-align: top;\n",
       "    }\n",
       "\n",
       "    .dataframe thead th {\n",
       "        text-align: right;\n",
       "    }\n",
       "</style>\n",
       "<table border=\"1\" class=\"dataframe\">\n",
       "  <thead>\n",
       "    <tr style=\"text-align: right;\">\n",
       "      <th></th>\n",
       "      <th>id</th>\n",
       "      <th>date</th>\n",
       "      <th>price</th>\n",
       "      <th>bedrooms</th>\n",
       "      <th>bathrooms</th>\n",
       "      <th>sqft_living</th>\n",
       "      <th>sqft_lot</th>\n",
       "      <th>floors</th>\n",
       "      <th>waterfront</th>\n",
       "      <th>view</th>\n",
       "      <th>...</th>\n",
       "      <th>grade</th>\n",
       "      <th>sqft_above</th>\n",
       "      <th>sqft_basement</th>\n",
       "      <th>yr_built</th>\n",
       "      <th>yr_renovated</th>\n",
       "      <th>zipcode</th>\n",
       "      <th>lat</th>\n",
       "      <th>long</th>\n",
       "      <th>sqft_living15</th>\n",
       "      <th>sqft_lot15</th>\n",
       "    </tr>\n",
       "  </thead>\n",
       "  <tbody>\n",
       "    <tr>\n",
       "      <th>0</th>\n",
       "      <td>7129300520</td>\n",
       "      <td>10/13/2014</td>\n",
       "      <td>221900.0</td>\n",
       "      <td>3</td>\n",
       "      <td>1.00</td>\n",
       "      <td>1180</td>\n",
       "      <td>5650</td>\n",
       "      <td>1.0</td>\n",
       "      <td>NaN</td>\n",
       "      <td>NONE</td>\n",
       "      <td>...</td>\n",
       "      <td>7 Average</td>\n",
       "      <td>1180</td>\n",
       "      <td>0.0</td>\n",
       "      <td>1955</td>\n",
       "      <td>0.0</td>\n",
       "      <td>98178</td>\n",
       "      <td>47.5112</td>\n",
       "      <td>-122.257</td>\n",
       "      <td>1340</td>\n",
       "      <td>5650</td>\n",
       "    </tr>\n",
       "    <tr>\n",
       "      <th>1</th>\n",
       "      <td>6414100192</td>\n",
       "      <td>12/9/2014</td>\n",
       "      <td>538000.0</td>\n",
       "      <td>3</td>\n",
       "      <td>2.25</td>\n",
       "      <td>2570</td>\n",
       "      <td>7242</td>\n",
       "      <td>2.0</td>\n",
       "      <td>NO</td>\n",
       "      <td>NONE</td>\n",
       "      <td>...</td>\n",
       "      <td>7 Average</td>\n",
       "      <td>2170</td>\n",
       "      <td>400.0</td>\n",
       "      <td>1951</td>\n",
       "      <td>1991.0</td>\n",
       "      <td>98125</td>\n",
       "      <td>47.7210</td>\n",
       "      <td>-122.319</td>\n",
       "      <td>1690</td>\n",
       "      <td>7639</td>\n",
       "    </tr>\n",
       "    <tr>\n",
       "      <th>2</th>\n",
       "      <td>5631500400</td>\n",
       "      <td>2/25/2015</td>\n",
       "      <td>180000.0</td>\n",
       "      <td>2</td>\n",
       "      <td>1.00</td>\n",
       "      <td>770</td>\n",
       "      <td>10000</td>\n",
       "      <td>1.0</td>\n",
       "      <td>NO</td>\n",
       "      <td>NONE</td>\n",
       "      <td>...</td>\n",
       "      <td>6 Low Average</td>\n",
       "      <td>770</td>\n",
       "      <td>0.0</td>\n",
       "      <td>1933</td>\n",
       "      <td>NaN</td>\n",
       "      <td>98028</td>\n",
       "      <td>47.7379</td>\n",
       "      <td>-122.233</td>\n",
       "      <td>2720</td>\n",
       "      <td>8062</td>\n",
       "    </tr>\n",
       "    <tr>\n",
       "      <th>3</th>\n",
       "      <td>2487200875</td>\n",
       "      <td>12/9/2014</td>\n",
       "      <td>604000.0</td>\n",
       "      <td>4</td>\n",
       "      <td>3.00</td>\n",
       "      <td>1960</td>\n",
       "      <td>5000</td>\n",
       "      <td>1.0</td>\n",
       "      <td>NO</td>\n",
       "      <td>NONE</td>\n",
       "      <td>...</td>\n",
       "      <td>7 Average</td>\n",
       "      <td>1050</td>\n",
       "      <td>910.0</td>\n",
       "      <td>1965</td>\n",
       "      <td>0.0</td>\n",
       "      <td>98136</td>\n",
       "      <td>47.5208</td>\n",
       "      <td>-122.393</td>\n",
       "      <td>1360</td>\n",
       "      <td>5000</td>\n",
       "    </tr>\n",
       "    <tr>\n",
       "      <th>4</th>\n",
       "      <td>1954400510</td>\n",
       "      <td>2/18/2015</td>\n",
       "      <td>510000.0</td>\n",
       "      <td>3</td>\n",
       "      <td>2.00</td>\n",
       "      <td>1680</td>\n",
       "      <td>8080</td>\n",
       "      <td>1.0</td>\n",
       "      <td>NO</td>\n",
       "      <td>NONE</td>\n",
       "      <td>...</td>\n",
       "      <td>8 Good</td>\n",
       "      <td>1680</td>\n",
       "      <td>0.0</td>\n",
       "      <td>1987</td>\n",
       "      <td>0.0</td>\n",
       "      <td>98074</td>\n",
       "      <td>47.6168</td>\n",
       "      <td>-122.045</td>\n",
       "      <td>1800</td>\n",
       "      <td>7503</td>\n",
       "    </tr>\n",
       "  </tbody>\n",
       "</table>\n",
       "<p>5 rows × 21 columns</p>\n",
       "</div>"
      ],
      "text/plain": [
       "           id        date     price  bedrooms  bathrooms  sqft_living  \\\n",
       "0  7129300520  10/13/2014  221900.0         3       1.00         1180   \n",
       "1  6414100192   12/9/2014  538000.0         3       2.25         2570   \n",
       "2  5631500400   2/25/2015  180000.0         2       1.00          770   \n",
       "3  2487200875   12/9/2014  604000.0         4       3.00         1960   \n",
       "4  1954400510   2/18/2015  510000.0         3       2.00         1680   \n",
       "\n",
       "   sqft_lot  floors waterfront  view  ...          grade sqft_above  \\\n",
       "0      5650     1.0        NaN  NONE  ...      7 Average       1180   \n",
       "1      7242     2.0         NO  NONE  ...      7 Average       2170   \n",
       "2     10000     1.0         NO  NONE  ...  6 Low Average        770   \n",
       "3      5000     1.0         NO  NONE  ...      7 Average       1050   \n",
       "4      8080     1.0         NO  NONE  ...         8 Good       1680   \n",
       "\n",
       "   sqft_basement yr_built  yr_renovated  zipcode      lat     long  \\\n",
       "0            0.0     1955           0.0    98178  47.5112 -122.257   \n",
       "1          400.0     1951        1991.0    98125  47.7210 -122.319   \n",
       "2            0.0     1933           NaN    98028  47.7379 -122.233   \n",
       "3          910.0     1965           0.0    98136  47.5208 -122.393   \n",
       "4            0.0     1987           0.0    98074  47.6168 -122.045   \n",
       "\n",
       "   sqft_living15  sqft_lot15  \n",
       "0           1340        5650  \n",
       "1           1690        7639  \n",
       "2           2720        8062  \n",
       "3           1360        5000  \n",
       "4           1800        7503  \n",
       "\n",
       "[5 rows x 21 columns]"
      ]
     },
     "execution_count": 2,
     "metadata": {},
     "output_type": "execute_result"
    }
   ],
   "source": [
    "#loading data \n",
    "import pandas as pd\n",
    "data = pd.read_csv(\"kc_house_data.csv\")\n",
    "data.head()"
   ]
  },
  {
   "cell_type": "markdown",
   "metadata": {},
   "source": [
    "# 2.2 Data Description\n",
    "\n",
    "# Column Names and Descriptions for King County Data Set\n",
    "* `id` - Unique identifier for a house\n",
    "* `date` - Date house was sold\n",
    "* `price` - Sale price (prediction target)\n",
    "* `bedrooms` - Number of bedrooms\n",
    "* `bathrooms` - Number of bathrooms\n",
    "* `sqft_living` - Square footage of living space in the home\n",
    "* `sqft_lot` - Square footage of the lot\n",
    "* `floors` - Number of floors (levels) in house\n",
    "* `grade` - Overall grade of the house. Related to the construction and design of the house.\n",
    "  * See the [King County Assessor Website]\n",
    "* `sqft_above` - Square footage of house apart from basement\n",
    "* `sqft_basement` - Square footage of the basement\n",
    "* `yr_built` - Year when house was built\n",
    "* `yr_renovated` - Year when house was renovated\n",
    "* `zipcode` - ZIP Code used by the United States Postal Service\n",
    "* `sqft_living15` - The square footage of interior housing living space for the nearest 15 neighbors\n",
    "* `sqft_lot15` - The square footage of the land lots of the nearest 15 neighbors"
   ]
  },
  {
   "cell_type": "markdown",
   "metadata": {},
   "source": [
    "## 2.3 Sampling Strategy"
   ]
  },
  {
   "cell_type": "markdown",
   "metadata": {},
   "source": [
    "### 2.3.1 Target Population"
   ]
  },
  {
   "cell_type": "markdown",
   "metadata": {},
   "source": [
    "The target population for this project is both the stakeholders and the people living within King County. This is because before stakeholders make a decision to invest in a housing project, they will consider the factors that influence the pricing of houses. also the people, because before they rent houses, they will always consider why the house's price should cost so much."
   ]
  },
  {
   "cell_type": "markdown",
   "metadata": {},
   "source": [
    "### 2.3.2 Sampling Method\n",
    "\n",
    "This data is based on datasets from King County house sales that contain multiple columns (variables). Of these columns, only those that are highly correlated to the prices of the houses are the ones that are going to be used, and only those that sound theoretically significant are going to be used. This is where the role of a data scientist starts to dwell, and he is the one to think critically about what variables are going to be of interest and essence. The target population for this project is both the stakeholders and the people living within King County. This is because before stakeholders make a decision to invest in a housing project, they will consider the factors that influence the pricing of houses. also the people, because before they rent houses, they will always consider why the house's price should cost so much."
   ]
  },
  {
   "cell_type": "markdown",
   "metadata": {},
   "source": [
    "### 2.4  Specifying the Question\n",
    "This part describes the null hypothesis and alternative hypothesis:\n",
    "\n",
    "Ho: all the factors have the same effect.\n",
    "\n",
    "H1: all the factors does not have the same effect."
   ]
  },
  {
   "cell_type": "markdown",
   "metadata": {},
   "source": [
    "## 3. Data Exploration"
   ]
  },
  {
   "cell_type": "code",
   "execution_count": 267,
   "metadata": {},
   "outputs": [
    {
     "name": "stdout",
     "output_type": "stream",
     "text": [
      "<class 'pandas.core.frame.DataFrame'>\n",
      "RangeIndex: 21597 entries, 0 to 21596\n",
      "Data columns (total 21 columns):\n",
      " #   Column         Non-Null Count  Dtype  \n",
      "---  ------         --------------  -----  \n",
      " 0   id             21597 non-null  int64  \n",
      " 1   date           21597 non-null  object \n",
      " 2   price          21597 non-null  float64\n",
      " 3   bedrooms       21597 non-null  int64  \n",
      " 4   bathrooms      21597 non-null  float64\n",
      " 5   sqft_living    21597 non-null  int64  \n",
      " 6   sqft_lot       21597 non-null  int64  \n",
      " 7   floors         21597 non-null  float64\n",
      " 8   waterfront     19221 non-null  object \n",
      " 9   view           21534 non-null  object \n",
      " 10  condition      21597 non-null  object \n",
      " 11  grade          21597 non-null  object \n",
      " 12  sqft_above     21597 non-null  int64  \n",
      " 13  sqft_basement  21597 non-null  object \n",
      " 14  yr_built       21597 non-null  int64  \n",
      " 15  yr_renovated   17755 non-null  float64\n",
      " 16  zipcode        21597 non-null  int64  \n",
      " 17  lat            21597 non-null  float64\n",
      " 18  long           21597 non-null  float64\n",
      " 19  sqft_living15  21597 non-null  int64  \n",
      " 20  sqft_lot15     21597 non-null  int64  \n",
      "dtypes: float64(6), int64(9), object(6)\n",
      "memory usage: 3.5+ MB\n"
     ]
    }
   ],
   "source": [
    "# explaring data types\n",
    "data.info()"
   ]
  },
  {
   "cell_type": "code",
   "execution_count": 268,
   "metadata": {},
   "outputs": [
    {
     "data": {
      "text/plain": [
       "(21597, 21)"
      ]
     },
     "execution_count": 268,
     "metadata": {},
     "output_type": "execute_result"
    }
   ],
   "source": [
    "# data shape\n",
    "data.shape"
   ]
  },
  {
   "cell_type": "code",
   "execution_count": 269,
   "metadata": {},
   "outputs": [
    {
     "data": {
      "text/html": [
       "<div>\n",
       "<style scoped>\n",
       "    .dataframe tbody tr th:only-of-type {\n",
       "        vertical-align: middle;\n",
       "    }\n",
       "\n",
       "    .dataframe tbody tr th {\n",
       "        vertical-align: top;\n",
       "    }\n",
       "\n",
       "    .dataframe thead th {\n",
       "        text-align: right;\n",
       "    }\n",
       "</style>\n",
       "<table border=\"1\" class=\"dataframe\">\n",
       "  <thead>\n",
       "    <tr style=\"text-align: right;\">\n",
       "      <th></th>\n",
       "      <th>id</th>\n",
       "      <th>price</th>\n",
       "      <th>bedrooms</th>\n",
       "      <th>bathrooms</th>\n",
       "      <th>sqft_living</th>\n",
       "      <th>sqft_lot</th>\n",
       "      <th>floors</th>\n",
       "      <th>sqft_above</th>\n",
       "      <th>yr_built</th>\n",
       "      <th>yr_renovated</th>\n",
       "      <th>zipcode</th>\n",
       "      <th>lat</th>\n",
       "      <th>long</th>\n",
       "      <th>sqft_living15</th>\n",
       "      <th>sqft_lot15</th>\n",
       "    </tr>\n",
       "  </thead>\n",
       "  <tbody>\n",
       "    <tr>\n",
       "      <th>count</th>\n",
       "      <td>2.159700e+04</td>\n",
       "      <td>2.159700e+04</td>\n",
       "      <td>21597.000000</td>\n",
       "      <td>21597.000000</td>\n",
       "      <td>21597.000000</td>\n",
       "      <td>2.159700e+04</td>\n",
       "      <td>21597.000000</td>\n",
       "      <td>21597.000000</td>\n",
       "      <td>21597.000000</td>\n",
       "      <td>17755.000000</td>\n",
       "      <td>21597.000000</td>\n",
       "      <td>21597.000000</td>\n",
       "      <td>21597.000000</td>\n",
       "      <td>21597.000000</td>\n",
       "      <td>21597.000000</td>\n",
       "    </tr>\n",
       "    <tr>\n",
       "      <th>mean</th>\n",
       "      <td>4.580474e+09</td>\n",
       "      <td>5.402966e+05</td>\n",
       "      <td>3.373200</td>\n",
       "      <td>2.115826</td>\n",
       "      <td>2080.321850</td>\n",
       "      <td>1.509941e+04</td>\n",
       "      <td>1.494096</td>\n",
       "      <td>1788.596842</td>\n",
       "      <td>1970.999676</td>\n",
       "      <td>83.636778</td>\n",
       "      <td>98077.951845</td>\n",
       "      <td>47.560093</td>\n",
       "      <td>-122.213982</td>\n",
       "      <td>1986.620318</td>\n",
       "      <td>12758.283512</td>\n",
       "    </tr>\n",
       "    <tr>\n",
       "      <th>std</th>\n",
       "      <td>2.876736e+09</td>\n",
       "      <td>3.673681e+05</td>\n",
       "      <td>0.926299</td>\n",
       "      <td>0.768984</td>\n",
       "      <td>918.106125</td>\n",
       "      <td>4.141264e+04</td>\n",
       "      <td>0.539683</td>\n",
       "      <td>827.759761</td>\n",
       "      <td>29.375234</td>\n",
       "      <td>399.946414</td>\n",
       "      <td>53.513072</td>\n",
       "      <td>0.138552</td>\n",
       "      <td>0.140724</td>\n",
       "      <td>685.230472</td>\n",
       "      <td>27274.441950</td>\n",
       "    </tr>\n",
       "    <tr>\n",
       "      <th>min</th>\n",
       "      <td>1.000102e+06</td>\n",
       "      <td>7.800000e+04</td>\n",
       "      <td>1.000000</td>\n",
       "      <td>0.500000</td>\n",
       "      <td>370.000000</td>\n",
       "      <td>5.200000e+02</td>\n",
       "      <td>1.000000</td>\n",
       "      <td>370.000000</td>\n",
       "      <td>1900.000000</td>\n",
       "      <td>0.000000</td>\n",
       "      <td>98001.000000</td>\n",
       "      <td>47.155900</td>\n",
       "      <td>-122.519000</td>\n",
       "      <td>399.000000</td>\n",
       "      <td>651.000000</td>\n",
       "    </tr>\n",
       "    <tr>\n",
       "      <th>25%</th>\n",
       "      <td>2.123049e+09</td>\n",
       "      <td>3.220000e+05</td>\n",
       "      <td>3.000000</td>\n",
       "      <td>1.750000</td>\n",
       "      <td>1430.000000</td>\n",
       "      <td>5.040000e+03</td>\n",
       "      <td>1.000000</td>\n",
       "      <td>1190.000000</td>\n",
       "      <td>1951.000000</td>\n",
       "      <td>0.000000</td>\n",
       "      <td>98033.000000</td>\n",
       "      <td>47.471100</td>\n",
       "      <td>-122.328000</td>\n",
       "      <td>1490.000000</td>\n",
       "      <td>5100.000000</td>\n",
       "    </tr>\n",
       "    <tr>\n",
       "      <th>50%</th>\n",
       "      <td>3.904930e+09</td>\n",
       "      <td>4.500000e+05</td>\n",
       "      <td>3.000000</td>\n",
       "      <td>2.250000</td>\n",
       "      <td>1910.000000</td>\n",
       "      <td>7.618000e+03</td>\n",
       "      <td>1.500000</td>\n",
       "      <td>1560.000000</td>\n",
       "      <td>1975.000000</td>\n",
       "      <td>0.000000</td>\n",
       "      <td>98065.000000</td>\n",
       "      <td>47.571800</td>\n",
       "      <td>-122.231000</td>\n",
       "      <td>1840.000000</td>\n",
       "      <td>7620.000000</td>\n",
       "    </tr>\n",
       "    <tr>\n",
       "      <th>75%</th>\n",
       "      <td>7.308900e+09</td>\n",
       "      <td>6.450000e+05</td>\n",
       "      <td>4.000000</td>\n",
       "      <td>2.500000</td>\n",
       "      <td>2550.000000</td>\n",
       "      <td>1.068500e+04</td>\n",
       "      <td>2.000000</td>\n",
       "      <td>2210.000000</td>\n",
       "      <td>1997.000000</td>\n",
       "      <td>0.000000</td>\n",
       "      <td>98118.000000</td>\n",
       "      <td>47.678000</td>\n",
       "      <td>-122.125000</td>\n",
       "      <td>2360.000000</td>\n",
       "      <td>10083.000000</td>\n",
       "    </tr>\n",
       "    <tr>\n",
       "      <th>max</th>\n",
       "      <td>9.900000e+09</td>\n",
       "      <td>7.700000e+06</td>\n",
       "      <td>33.000000</td>\n",
       "      <td>8.000000</td>\n",
       "      <td>13540.000000</td>\n",
       "      <td>1.651359e+06</td>\n",
       "      <td>3.500000</td>\n",
       "      <td>9410.000000</td>\n",
       "      <td>2015.000000</td>\n",
       "      <td>2015.000000</td>\n",
       "      <td>98199.000000</td>\n",
       "      <td>47.777600</td>\n",
       "      <td>-121.315000</td>\n",
       "      <td>6210.000000</td>\n",
       "      <td>871200.000000</td>\n",
       "    </tr>\n",
       "  </tbody>\n",
       "</table>\n",
       "</div>"
      ],
      "text/plain": [
       "                 id         price      bedrooms     bathrooms   sqft_living  \\\n",
       "count  2.159700e+04  2.159700e+04  21597.000000  21597.000000  21597.000000   \n",
       "mean   4.580474e+09  5.402966e+05      3.373200      2.115826   2080.321850   \n",
       "std    2.876736e+09  3.673681e+05      0.926299      0.768984    918.106125   \n",
       "min    1.000102e+06  7.800000e+04      1.000000      0.500000    370.000000   \n",
       "25%    2.123049e+09  3.220000e+05      3.000000      1.750000   1430.000000   \n",
       "50%    3.904930e+09  4.500000e+05      3.000000      2.250000   1910.000000   \n",
       "75%    7.308900e+09  6.450000e+05      4.000000      2.500000   2550.000000   \n",
       "max    9.900000e+09  7.700000e+06     33.000000      8.000000  13540.000000   \n",
       "\n",
       "           sqft_lot        floors    sqft_above      yr_built  yr_renovated  \\\n",
       "count  2.159700e+04  21597.000000  21597.000000  21597.000000  17755.000000   \n",
       "mean   1.509941e+04      1.494096   1788.596842   1970.999676     83.636778   \n",
       "std    4.141264e+04      0.539683    827.759761     29.375234    399.946414   \n",
       "min    5.200000e+02      1.000000    370.000000   1900.000000      0.000000   \n",
       "25%    5.040000e+03      1.000000   1190.000000   1951.000000      0.000000   \n",
       "50%    7.618000e+03      1.500000   1560.000000   1975.000000      0.000000   \n",
       "75%    1.068500e+04      2.000000   2210.000000   1997.000000      0.000000   \n",
       "max    1.651359e+06      3.500000   9410.000000   2015.000000   2015.000000   \n",
       "\n",
       "            zipcode           lat          long  sqft_living15     sqft_lot15  \n",
       "count  21597.000000  21597.000000  21597.000000   21597.000000   21597.000000  \n",
       "mean   98077.951845     47.560093   -122.213982    1986.620318   12758.283512  \n",
       "std       53.513072      0.138552      0.140724     685.230472   27274.441950  \n",
       "min    98001.000000     47.155900   -122.519000     399.000000     651.000000  \n",
       "25%    98033.000000     47.471100   -122.328000    1490.000000    5100.000000  \n",
       "50%    98065.000000     47.571800   -122.231000    1840.000000    7620.000000  \n",
       "75%    98118.000000     47.678000   -122.125000    2360.000000   10083.000000  \n",
       "max    98199.000000     47.777600   -121.315000    6210.000000  871200.000000  "
      ]
     },
     "execution_count": 269,
     "metadata": {},
     "output_type": "execute_result"
    }
   ],
   "source": [
    "# summary statistics\n",
    "data.describe()"
   ]
  },
  {
   "cell_type": "code",
   "execution_count": 270,
   "metadata": {},
   "outputs": [
    {
     "data": {
      "text/plain": [
       "id                  0\n",
       "date                0\n",
       "price               0\n",
       "bedrooms            0\n",
       "bathrooms           0\n",
       "sqft_living         0\n",
       "sqft_lot            0\n",
       "floors              0\n",
       "waterfront       2376\n",
       "view               63\n",
       "condition           0\n",
       "grade               0\n",
       "sqft_above          0\n",
       "sqft_basement       0\n",
       "yr_built            0\n",
       "yr_renovated     3842\n",
       "zipcode             0\n",
       "lat                 0\n",
       "long                0\n",
       "sqft_living15       0\n",
       "sqft_lot15          0\n",
       "dtype: int64"
      ]
     },
     "execution_count": 270,
     "metadata": {},
     "output_type": "execute_result"
    }
   ],
   "source": [
    "# checking for missing values\n",
    "data.isnull().sum()"
   ]
  },
  {
   "cell_type": "code",
   "execution_count": 271,
   "metadata": {},
   "outputs": [
    {
     "data": {
      "text/plain": [
       "0"
      ]
     },
     "execution_count": 271,
     "metadata": {},
     "output_type": "execute_result"
    }
   ],
   "source": [
    "# checking for duplicates\n",
    "data.duplicated().sum()"
   ]
  },
  {
   "cell_type": "code",
   "execution_count": 272,
   "metadata": {},
   "outputs": [
    {
     "data": {
      "text/plain": [
       "(21597, 21)"
      ]
     },
     "execution_count": 272,
     "metadata": {},
     "output_type": "execute_result"
    }
   ],
   "source": [
    "# shape \n",
    "data.shape"
   ]
  },
  {
   "cell_type": "code",
   "execution_count": 273,
   "metadata": {
    "scrolled": true
   },
   "outputs": [
    {
     "data": {
      "text/plain": [
       "Average      14020\n",
       "Good          5677\n",
       "Very Good     1701\n",
       "Fair           170\n",
       "Poor            29\n",
       "Name: condition, dtype: int64"
      ]
     },
     "execution_count": 273,
     "metadata": {},
     "output_type": "execute_result"
    }
   ],
   "source": [
    "# counts in condition\n",
    "data[\"condition\"].value_counts()"
   ]
  },
  {
   "cell_type": "code",
   "execution_count": 274,
   "metadata": {},
   "outputs": [],
   "source": [
    "# importing necessary library packages\n",
    "import numpy as np\n",
    "import matplotlib.pyplot as plt\n",
    "import seaborn as sns"
   ]
  },
  {
   "cell_type": "code",
   "execution_count": 275,
   "metadata": {
    "scrolled": true
   },
   "outputs": [],
   "source": [
    "# feature engineering\n",
    "data[\"date\"] = pd.to_datetime\\\n",
    "                (data[\"date\"])"
   ]
  },
  {
   "cell_type": "code",
   "execution_count": 276,
   "metadata": {},
   "outputs": [],
   "source": [
    "data[\"month\"] = pd.DatetimeIndex(data[\"date\"]).month"
   ]
  },
  {
   "cell_type": "code",
   "execution_count": 277,
   "metadata": {},
   "outputs": [
    {
     "data": {
      "text/html": [
       "<div>\n",
       "<style scoped>\n",
       "    .dataframe tbody tr th:only-of-type {\n",
       "        vertical-align: middle;\n",
       "    }\n",
       "\n",
       "    .dataframe tbody tr th {\n",
       "        vertical-align: top;\n",
       "    }\n",
       "\n",
       "    .dataframe thead th {\n",
       "        text-align: right;\n",
       "    }\n",
       "</style>\n",
       "<table border=\"1\" class=\"dataframe\">\n",
       "  <thead>\n",
       "    <tr style=\"text-align: right;\">\n",
       "      <th></th>\n",
       "      <th>id</th>\n",
       "      <th>date</th>\n",
       "      <th>price</th>\n",
       "      <th>bedrooms</th>\n",
       "      <th>bathrooms</th>\n",
       "      <th>sqft_living</th>\n",
       "      <th>sqft_lot</th>\n",
       "      <th>floors</th>\n",
       "      <th>waterfront</th>\n",
       "      <th>view</th>\n",
       "      <th>...</th>\n",
       "      <th>sqft_above</th>\n",
       "      <th>sqft_basement</th>\n",
       "      <th>yr_built</th>\n",
       "      <th>yr_renovated</th>\n",
       "      <th>zipcode</th>\n",
       "      <th>lat</th>\n",
       "      <th>long</th>\n",
       "      <th>sqft_living15</th>\n",
       "      <th>sqft_lot15</th>\n",
       "      <th>month</th>\n",
       "    </tr>\n",
       "  </thead>\n",
       "  <tbody>\n",
       "    <tr>\n",
       "      <th>0</th>\n",
       "      <td>7129300520</td>\n",
       "      <td>2014-10-13</td>\n",
       "      <td>221900.0</td>\n",
       "      <td>3</td>\n",
       "      <td>1.00</td>\n",
       "      <td>1180</td>\n",
       "      <td>5650</td>\n",
       "      <td>1.0</td>\n",
       "      <td>NaN</td>\n",
       "      <td>NONE</td>\n",
       "      <td>...</td>\n",
       "      <td>1180</td>\n",
       "      <td>0.0</td>\n",
       "      <td>1955</td>\n",
       "      <td>0.0</td>\n",
       "      <td>98178</td>\n",
       "      <td>47.5112</td>\n",
       "      <td>-122.257</td>\n",
       "      <td>1340</td>\n",
       "      <td>5650</td>\n",
       "      <td>10</td>\n",
       "    </tr>\n",
       "    <tr>\n",
       "      <th>1</th>\n",
       "      <td>6414100192</td>\n",
       "      <td>2014-12-09</td>\n",
       "      <td>538000.0</td>\n",
       "      <td>3</td>\n",
       "      <td>2.25</td>\n",
       "      <td>2570</td>\n",
       "      <td>7242</td>\n",
       "      <td>2.0</td>\n",
       "      <td>NO</td>\n",
       "      <td>NONE</td>\n",
       "      <td>...</td>\n",
       "      <td>2170</td>\n",
       "      <td>400.0</td>\n",
       "      <td>1951</td>\n",
       "      <td>1991.0</td>\n",
       "      <td>98125</td>\n",
       "      <td>47.7210</td>\n",
       "      <td>-122.319</td>\n",
       "      <td>1690</td>\n",
       "      <td>7639</td>\n",
       "      <td>12</td>\n",
       "    </tr>\n",
       "    <tr>\n",
       "      <th>2</th>\n",
       "      <td>5631500400</td>\n",
       "      <td>2015-02-25</td>\n",
       "      <td>180000.0</td>\n",
       "      <td>2</td>\n",
       "      <td>1.00</td>\n",
       "      <td>770</td>\n",
       "      <td>10000</td>\n",
       "      <td>1.0</td>\n",
       "      <td>NO</td>\n",
       "      <td>NONE</td>\n",
       "      <td>...</td>\n",
       "      <td>770</td>\n",
       "      <td>0.0</td>\n",
       "      <td>1933</td>\n",
       "      <td>NaN</td>\n",
       "      <td>98028</td>\n",
       "      <td>47.7379</td>\n",
       "      <td>-122.233</td>\n",
       "      <td>2720</td>\n",
       "      <td>8062</td>\n",
       "      <td>2</td>\n",
       "    </tr>\n",
       "    <tr>\n",
       "      <th>3</th>\n",
       "      <td>2487200875</td>\n",
       "      <td>2014-12-09</td>\n",
       "      <td>604000.0</td>\n",
       "      <td>4</td>\n",
       "      <td>3.00</td>\n",
       "      <td>1960</td>\n",
       "      <td>5000</td>\n",
       "      <td>1.0</td>\n",
       "      <td>NO</td>\n",
       "      <td>NONE</td>\n",
       "      <td>...</td>\n",
       "      <td>1050</td>\n",
       "      <td>910.0</td>\n",
       "      <td>1965</td>\n",
       "      <td>0.0</td>\n",
       "      <td>98136</td>\n",
       "      <td>47.5208</td>\n",
       "      <td>-122.393</td>\n",
       "      <td>1360</td>\n",
       "      <td>5000</td>\n",
       "      <td>12</td>\n",
       "    </tr>\n",
       "    <tr>\n",
       "      <th>4</th>\n",
       "      <td>1954400510</td>\n",
       "      <td>2015-02-18</td>\n",
       "      <td>510000.0</td>\n",
       "      <td>3</td>\n",
       "      <td>2.00</td>\n",
       "      <td>1680</td>\n",
       "      <td>8080</td>\n",
       "      <td>1.0</td>\n",
       "      <td>NO</td>\n",
       "      <td>NONE</td>\n",
       "      <td>...</td>\n",
       "      <td>1680</td>\n",
       "      <td>0.0</td>\n",
       "      <td>1987</td>\n",
       "      <td>0.0</td>\n",
       "      <td>98074</td>\n",
       "      <td>47.6168</td>\n",
       "      <td>-122.045</td>\n",
       "      <td>1800</td>\n",
       "      <td>7503</td>\n",
       "      <td>2</td>\n",
       "    </tr>\n",
       "  </tbody>\n",
       "</table>\n",
       "<p>5 rows × 22 columns</p>\n",
       "</div>"
      ],
      "text/plain": [
       "           id       date     price  bedrooms  bathrooms  sqft_living  \\\n",
       "0  7129300520 2014-10-13  221900.0         3       1.00         1180   \n",
       "1  6414100192 2014-12-09  538000.0         3       2.25         2570   \n",
       "2  5631500400 2015-02-25  180000.0         2       1.00          770   \n",
       "3  2487200875 2014-12-09  604000.0         4       3.00         1960   \n",
       "4  1954400510 2015-02-18  510000.0         3       2.00         1680   \n",
       "\n",
       "   sqft_lot  floors waterfront  view  ... sqft_above sqft_basement  yr_built  \\\n",
       "0      5650     1.0        NaN  NONE  ...       1180           0.0      1955   \n",
       "1      7242     2.0         NO  NONE  ...       2170         400.0      1951   \n",
       "2     10000     1.0         NO  NONE  ...        770           0.0      1933   \n",
       "3      5000     1.0         NO  NONE  ...       1050         910.0      1965   \n",
       "4      8080     1.0         NO  NONE  ...       1680           0.0      1987   \n",
       "\n",
       "  yr_renovated  zipcode      lat     long  sqft_living15  sqft_lot15  month  \n",
       "0          0.0    98178  47.5112 -122.257           1340        5650     10  \n",
       "1       1991.0    98125  47.7210 -122.319           1690        7639     12  \n",
       "2          NaN    98028  47.7379 -122.233           2720        8062      2  \n",
       "3          0.0    98136  47.5208 -122.393           1360        5000     12  \n",
       "4          0.0    98074  47.6168 -122.045           1800        7503      2  \n",
       "\n",
       "[5 rows x 22 columns]"
      ]
     },
     "execution_count": 277,
     "metadata": {},
     "output_type": "execute_result"
    }
   ],
   "source": [
    "# displaying first 5 rows\n",
    "data.head()"
   ]
  },
  {
   "cell_type": "markdown",
   "metadata": {},
   "source": [
    "# checking for linear regression assumptions in the data\n",
    "This helps to know if our data is suitable for modelling using  linear regression"
   ]
  },
  {
   "cell_type": "code",
   "execution_count": 278,
   "metadata": {},
   "outputs": [],
   "source": [
    "# data that contain variables of interest\n",
    "#\"price\",\"bathrooms\",\"sqft_living\",\"sqft_living15\",\"sqft_above\",\"sqft_lot\",\"sqft_lot15\",\n",
    "data.drop([\"bedrooms\",\"grade\",\"month\"],axis = 1,inplace = True)"
   ]
  },
  {
   "cell_type": "code",
   "execution_count": 279,
   "metadata": {},
   "outputs": [
    {
     "data": {
      "text/html": [
       "<div>\n",
       "<style scoped>\n",
       "    .dataframe tbody tr th:only-of-type {\n",
       "        vertical-align: middle;\n",
       "    }\n",
       "\n",
       "    .dataframe tbody tr th {\n",
       "        vertical-align: top;\n",
       "    }\n",
       "\n",
       "    .dataframe thead th {\n",
       "        text-align: right;\n",
       "    }\n",
       "</style>\n",
       "<table border=\"1\" class=\"dataframe\">\n",
       "  <thead>\n",
       "    <tr style=\"text-align: right;\">\n",
       "      <th></th>\n",
       "      <th>id</th>\n",
       "      <th>date</th>\n",
       "      <th>price</th>\n",
       "      <th>bathrooms</th>\n",
       "      <th>sqft_living</th>\n",
       "      <th>sqft_lot</th>\n",
       "      <th>floors</th>\n",
       "      <th>waterfront</th>\n",
       "      <th>view</th>\n",
       "      <th>condition</th>\n",
       "      <th>sqft_above</th>\n",
       "      <th>sqft_basement</th>\n",
       "      <th>yr_built</th>\n",
       "      <th>yr_renovated</th>\n",
       "      <th>zipcode</th>\n",
       "      <th>lat</th>\n",
       "      <th>long</th>\n",
       "      <th>sqft_living15</th>\n",
       "      <th>sqft_lot15</th>\n",
       "    </tr>\n",
       "  </thead>\n",
       "  <tbody>\n",
       "    <tr>\n",
       "      <th>0</th>\n",
       "      <td>7129300520</td>\n",
       "      <td>2014-10-13</td>\n",
       "      <td>221900.0</td>\n",
       "      <td>1.00</td>\n",
       "      <td>1180</td>\n",
       "      <td>5650</td>\n",
       "      <td>1.0</td>\n",
       "      <td>NaN</td>\n",
       "      <td>NONE</td>\n",
       "      <td>Average</td>\n",
       "      <td>1180</td>\n",
       "      <td>0.0</td>\n",
       "      <td>1955</td>\n",
       "      <td>0.0</td>\n",
       "      <td>98178</td>\n",
       "      <td>47.5112</td>\n",
       "      <td>-122.257</td>\n",
       "      <td>1340</td>\n",
       "      <td>5650</td>\n",
       "    </tr>\n",
       "    <tr>\n",
       "      <th>1</th>\n",
       "      <td>6414100192</td>\n",
       "      <td>2014-12-09</td>\n",
       "      <td>538000.0</td>\n",
       "      <td>2.25</td>\n",
       "      <td>2570</td>\n",
       "      <td>7242</td>\n",
       "      <td>2.0</td>\n",
       "      <td>NO</td>\n",
       "      <td>NONE</td>\n",
       "      <td>Average</td>\n",
       "      <td>2170</td>\n",
       "      <td>400.0</td>\n",
       "      <td>1951</td>\n",
       "      <td>1991.0</td>\n",
       "      <td>98125</td>\n",
       "      <td>47.7210</td>\n",
       "      <td>-122.319</td>\n",
       "      <td>1690</td>\n",
       "      <td>7639</td>\n",
       "    </tr>\n",
       "    <tr>\n",
       "      <th>2</th>\n",
       "      <td>5631500400</td>\n",
       "      <td>2015-02-25</td>\n",
       "      <td>180000.0</td>\n",
       "      <td>1.00</td>\n",
       "      <td>770</td>\n",
       "      <td>10000</td>\n",
       "      <td>1.0</td>\n",
       "      <td>NO</td>\n",
       "      <td>NONE</td>\n",
       "      <td>Average</td>\n",
       "      <td>770</td>\n",
       "      <td>0.0</td>\n",
       "      <td>1933</td>\n",
       "      <td>NaN</td>\n",
       "      <td>98028</td>\n",
       "      <td>47.7379</td>\n",
       "      <td>-122.233</td>\n",
       "      <td>2720</td>\n",
       "      <td>8062</td>\n",
       "    </tr>\n",
       "    <tr>\n",
       "      <th>3</th>\n",
       "      <td>2487200875</td>\n",
       "      <td>2014-12-09</td>\n",
       "      <td>604000.0</td>\n",
       "      <td>3.00</td>\n",
       "      <td>1960</td>\n",
       "      <td>5000</td>\n",
       "      <td>1.0</td>\n",
       "      <td>NO</td>\n",
       "      <td>NONE</td>\n",
       "      <td>Very Good</td>\n",
       "      <td>1050</td>\n",
       "      <td>910.0</td>\n",
       "      <td>1965</td>\n",
       "      <td>0.0</td>\n",
       "      <td>98136</td>\n",
       "      <td>47.5208</td>\n",
       "      <td>-122.393</td>\n",
       "      <td>1360</td>\n",
       "      <td>5000</td>\n",
       "    </tr>\n",
       "    <tr>\n",
       "      <th>4</th>\n",
       "      <td>1954400510</td>\n",
       "      <td>2015-02-18</td>\n",
       "      <td>510000.0</td>\n",
       "      <td>2.00</td>\n",
       "      <td>1680</td>\n",
       "      <td>8080</td>\n",
       "      <td>1.0</td>\n",
       "      <td>NO</td>\n",
       "      <td>NONE</td>\n",
       "      <td>Average</td>\n",
       "      <td>1680</td>\n",
       "      <td>0.0</td>\n",
       "      <td>1987</td>\n",
       "      <td>0.0</td>\n",
       "      <td>98074</td>\n",
       "      <td>47.6168</td>\n",
       "      <td>-122.045</td>\n",
       "      <td>1800</td>\n",
       "      <td>7503</td>\n",
       "    </tr>\n",
       "    <tr>\n",
       "      <th>...</th>\n",
       "      <td>...</td>\n",
       "      <td>...</td>\n",
       "      <td>...</td>\n",
       "      <td>...</td>\n",
       "      <td>...</td>\n",
       "      <td>...</td>\n",
       "      <td>...</td>\n",
       "      <td>...</td>\n",
       "      <td>...</td>\n",
       "      <td>...</td>\n",
       "      <td>...</td>\n",
       "      <td>...</td>\n",
       "      <td>...</td>\n",
       "      <td>...</td>\n",
       "      <td>...</td>\n",
       "      <td>...</td>\n",
       "      <td>...</td>\n",
       "      <td>...</td>\n",
       "      <td>...</td>\n",
       "    </tr>\n",
       "    <tr>\n",
       "      <th>21592</th>\n",
       "      <td>263000018</td>\n",
       "      <td>2014-05-21</td>\n",
       "      <td>360000.0</td>\n",
       "      <td>2.50</td>\n",
       "      <td>1530</td>\n",
       "      <td>1131</td>\n",
       "      <td>3.0</td>\n",
       "      <td>NO</td>\n",
       "      <td>NONE</td>\n",
       "      <td>Average</td>\n",
       "      <td>1530</td>\n",
       "      <td>0.0</td>\n",
       "      <td>2009</td>\n",
       "      <td>0.0</td>\n",
       "      <td>98103</td>\n",
       "      <td>47.6993</td>\n",
       "      <td>-122.346</td>\n",
       "      <td>1530</td>\n",
       "      <td>1509</td>\n",
       "    </tr>\n",
       "    <tr>\n",
       "      <th>21593</th>\n",
       "      <td>6600060120</td>\n",
       "      <td>2015-02-23</td>\n",
       "      <td>400000.0</td>\n",
       "      <td>2.50</td>\n",
       "      <td>2310</td>\n",
       "      <td>5813</td>\n",
       "      <td>2.0</td>\n",
       "      <td>NO</td>\n",
       "      <td>NONE</td>\n",
       "      <td>Average</td>\n",
       "      <td>2310</td>\n",
       "      <td>0.0</td>\n",
       "      <td>2014</td>\n",
       "      <td>0.0</td>\n",
       "      <td>98146</td>\n",
       "      <td>47.5107</td>\n",
       "      <td>-122.362</td>\n",
       "      <td>1830</td>\n",
       "      <td>7200</td>\n",
       "    </tr>\n",
       "    <tr>\n",
       "      <th>21594</th>\n",
       "      <td>1523300141</td>\n",
       "      <td>2014-06-23</td>\n",
       "      <td>402101.0</td>\n",
       "      <td>0.75</td>\n",
       "      <td>1020</td>\n",
       "      <td>1350</td>\n",
       "      <td>2.0</td>\n",
       "      <td>NO</td>\n",
       "      <td>NONE</td>\n",
       "      <td>Average</td>\n",
       "      <td>1020</td>\n",
       "      <td>0.0</td>\n",
       "      <td>2009</td>\n",
       "      <td>0.0</td>\n",
       "      <td>98144</td>\n",
       "      <td>47.5944</td>\n",
       "      <td>-122.299</td>\n",
       "      <td>1020</td>\n",
       "      <td>2007</td>\n",
       "    </tr>\n",
       "    <tr>\n",
       "      <th>21595</th>\n",
       "      <td>291310100</td>\n",
       "      <td>2015-01-16</td>\n",
       "      <td>400000.0</td>\n",
       "      <td>2.50</td>\n",
       "      <td>1600</td>\n",
       "      <td>2388</td>\n",
       "      <td>2.0</td>\n",
       "      <td>NaN</td>\n",
       "      <td>NONE</td>\n",
       "      <td>Average</td>\n",
       "      <td>1600</td>\n",
       "      <td>0.0</td>\n",
       "      <td>2004</td>\n",
       "      <td>0.0</td>\n",
       "      <td>98027</td>\n",
       "      <td>47.5345</td>\n",
       "      <td>-122.069</td>\n",
       "      <td>1410</td>\n",
       "      <td>1287</td>\n",
       "    </tr>\n",
       "    <tr>\n",
       "      <th>21596</th>\n",
       "      <td>1523300157</td>\n",
       "      <td>2014-10-15</td>\n",
       "      <td>325000.0</td>\n",
       "      <td>0.75</td>\n",
       "      <td>1020</td>\n",
       "      <td>1076</td>\n",
       "      <td>2.0</td>\n",
       "      <td>NO</td>\n",
       "      <td>NONE</td>\n",
       "      <td>Average</td>\n",
       "      <td>1020</td>\n",
       "      <td>0.0</td>\n",
       "      <td>2008</td>\n",
       "      <td>0.0</td>\n",
       "      <td>98144</td>\n",
       "      <td>47.5941</td>\n",
       "      <td>-122.299</td>\n",
       "      <td>1020</td>\n",
       "      <td>1357</td>\n",
       "    </tr>\n",
       "  </tbody>\n",
       "</table>\n",
       "<p>21597 rows × 19 columns</p>\n",
       "</div>"
      ],
      "text/plain": [
       "               id       date     price  bathrooms  sqft_living  sqft_lot  \\\n",
       "0      7129300520 2014-10-13  221900.0       1.00         1180      5650   \n",
       "1      6414100192 2014-12-09  538000.0       2.25         2570      7242   \n",
       "2      5631500400 2015-02-25  180000.0       1.00          770     10000   \n",
       "3      2487200875 2014-12-09  604000.0       3.00         1960      5000   \n",
       "4      1954400510 2015-02-18  510000.0       2.00         1680      8080   \n",
       "...           ...        ...       ...        ...          ...       ...   \n",
       "21592   263000018 2014-05-21  360000.0       2.50         1530      1131   \n",
       "21593  6600060120 2015-02-23  400000.0       2.50         2310      5813   \n",
       "21594  1523300141 2014-06-23  402101.0       0.75         1020      1350   \n",
       "21595   291310100 2015-01-16  400000.0       2.50         1600      2388   \n",
       "21596  1523300157 2014-10-15  325000.0       0.75         1020      1076   \n",
       "\n",
       "       floors waterfront  view  condition  sqft_above sqft_basement  yr_built  \\\n",
       "0         1.0        NaN  NONE    Average        1180           0.0      1955   \n",
       "1         2.0         NO  NONE    Average        2170         400.0      1951   \n",
       "2         1.0         NO  NONE    Average         770           0.0      1933   \n",
       "3         1.0         NO  NONE  Very Good        1050         910.0      1965   \n",
       "4         1.0         NO  NONE    Average        1680           0.0      1987   \n",
       "...       ...        ...   ...        ...         ...           ...       ...   \n",
       "21592     3.0         NO  NONE    Average        1530           0.0      2009   \n",
       "21593     2.0         NO  NONE    Average        2310           0.0      2014   \n",
       "21594     2.0         NO  NONE    Average        1020           0.0      2009   \n",
       "21595     2.0        NaN  NONE    Average        1600           0.0      2004   \n",
       "21596     2.0         NO  NONE    Average        1020           0.0      2008   \n",
       "\n",
       "       yr_renovated  zipcode      lat     long  sqft_living15  sqft_lot15  \n",
       "0               0.0    98178  47.5112 -122.257           1340        5650  \n",
       "1            1991.0    98125  47.7210 -122.319           1690        7639  \n",
       "2               NaN    98028  47.7379 -122.233           2720        8062  \n",
       "3               0.0    98136  47.5208 -122.393           1360        5000  \n",
       "4               0.0    98074  47.6168 -122.045           1800        7503  \n",
       "...             ...      ...      ...      ...            ...         ...  \n",
       "21592           0.0    98103  47.6993 -122.346           1530        1509  \n",
       "21593           0.0    98146  47.5107 -122.362           1830        7200  \n",
       "21594           0.0    98144  47.5944 -122.299           1020        2007  \n",
       "21595           0.0    98027  47.5345 -122.069           1410        1287  \n",
       "21596           0.0    98144  47.5941 -122.299           1020        1357  \n",
       "\n",
       "[21597 rows x 19 columns]"
      ]
     },
     "execution_count": 279,
     "metadata": {},
     "output_type": "execute_result"
    }
   ],
   "source": [
    "data"
   ]
  },
  {
   "cell_type": "code",
   "execution_count": 280,
   "metadata": {},
   "outputs": [
    {
     "data": {
      "text/plain": [
       "id                  0\n",
       "date                0\n",
       "price               0\n",
       "bathrooms           0\n",
       "sqft_living         0\n",
       "sqft_lot            0\n",
       "floors              0\n",
       "waterfront       2376\n",
       "view               63\n",
       "condition           0\n",
       "sqft_above          0\n",
       "sqft_basement       0\n",
       "yr_built            0\n",
       "yr_renovated     3842\n",
       "zipcode             0\n",
       "lat                 0\n",
       "long                0\n",
       "sqft_living15       0\n",
       "sqft_lot15          0\n",
       "dtype: int64"
      ]
     },
     "execution_count": 280,
     "metadata": {},
     "output_type": "execute_result"
    }
   ],
   "source": [
    "# checking for missing values\n",
    "data.isna().sum()"
   ]
  },
  {
   "cell_type": "code",
   "execution_count": 283,
   "metadata": {},
   "outputs": [
    {
     "name": "stdout",
     "output_type": "stream",
     "text": [
      "                     id     price  bathrooms  sqft_living  sqft_lot    floors  \\\n",
      "id             1.000000 -0.016772   0.005162    -0.012241 -0.131911  0.018608   \n",
      "price         -0.016772  1.000000   0.525906     0.701917  0.089876  0.256804   \n",
      "bathrooms      0.005162  0.525906   1.000000     0.755758  0.088373  0.502582   \n",
      "sqft_living   -0.012241  0.701917   0.755758     1.000000  0.173453  0.353953   \n",
      "sqft_lot      -0.131911  0.089876   0.088373     0.173453  1.000000 -0.004814   \n",
      "floors         0.018608  0.256804   0.502582     0.353953 -0.004814  1.000000   \n",
      "sqft_above    -0.010799  0.605368   0.686668     0.876448  0.184139  0.523989   \n",
      "yr_built       0.021617  0.053953   0.507173     0.318152  0.052946  0.489193   \n",
      "yr_renovated  -0.012010  0.129599   0.051050     0.055660  0.004513  0.003535   \n",
      "zipcode       -0.008211 -0.053402  -0.204786    -0.199802 -0.129586 -0.059541   \n",
      "lat           -0.001798  0.306692   0.024280     0.052155 -0.085514  0.049239   \n",
      "long           0.020672  0.022036   0.224903     0.241214  0.230227  0.125943   \n",
      "sqft_living15 -0.002701  0.585241   0.569884     0.756402  0.144763  0.280102   \n",
      "sqft_lot15    -0.138557  0.082845   0.088303     0.184342  0.718204 -0.010722   \n",
      "\n",
      "               sqft_above  yr_built  yr_renovated   zipcode       lat  \\\n",
      "id              -0.010799  0.021617     -0.012010 -0.008211 -0.001798   \n",
      "price            0.605368  0.053953      0.129599 -0.053402  0.306692   \n",
      "bathrooms        0.686668  0.507173      0.051050 -0.204786  0.024280   \n",
      "sqft_living      0.876448  0.318152      0.055660 -0.199802  0.052155   \n",
      "sqft_lot         0.184139  0.052946      0.004513 -0.129586 -0.085514   \n",
      "floors           0.523989  0.489193      0.003535 -0.059541  0.049239   \n",
      "sqft_above       1.000000  0.424037      0.022137 -0.261570 -0.001199   \n",
      "yr_built         0.424037  1.000000     -0.225209 -0.347210 -0.148370   \n",
      "yr_renovated     0.022137 -0.225209      1.000000  0.069846  0.032145   \n",
      "zipcode         -0.261570 -0.347210      0.069846  1.000000  0.266742   \n",
      "lat             -0.001199 -0.148370      0.032145  0.266742  1.000000   \n",
      "long             0.344842  0.409993     -0.072156 -0.564259 -0.135371   \n",
      "sqft_living15    0.731767  0.326377     -0.000247 -0.279299  0.048679   \n",
      "sqft_lot15       0.195077  0.070777      0.003852 -0.147294 -0.086139   \n",
      "\n",
      "                   long  sqft_living15  sqft_lot15  \n",
      "id             0.020672      -0.002701   -0.138557  \n",
      "price          0.022036       0.585241    0.082845  \n",
      "bathrooms      0.224903       0.569884    0.088303  \n",
      "sqft_living    0.241214       0.756402    0.184342  \n",
      "sqft_lot       0.230227       0.144763    0.718204  \n",
      "floors         0.125943       0.280102   -0.010722  \n",
      "sqft_above     0.344842       0.731767    0.195077  \n",
      "yr_built       0.409993       0.326377    0.070777  \n",
      "yr_renovated  -0.072156      -0.000247    0.003852  \n",
      "zipcode       -0.564259      -0.279299   -0.147294  \n",
      "lat           -0.135371       0.048679   -0.086139  \n",
      "long           1.000000       0.335626    0.255586  \n",
      "sqft_living15  0.335626       1.000000    0.183515  \n",
      "sqft_lot15     0.255586       0.183515    1.000000  \n",
      "\n",
      "From our output it is very clear that our data has no multicollinearity.\n",
      "This is because data is said to have multicollinearity if it is greater than 75%\n",
      "\n",
      "\n"
     ]
    }
   ],
   "source": [
    "# checking if our data is correlated(multicollinearity)\n",
    "print(data.corr())\n",
    "explanation = ('''\n",
    "From our output it is very clear that our data has no multicollinearity.\n",
    "This is because data is said to have multicollinearity if it is greater than 75%\n",
    "\n",
    "''')\n",
    "print(explanation)"
   ]
  },
  {
   "cell_type": "code",
   "execution_count": 285,
   "metadata": {},
   "outputs": [
    {
     "data": {
      "image/png": "[encoded data removed]",
      "text/plain": [
       "<Figure size 576x720 with 9 Axes>"
      ]
     },
     "metadata": {
      "needs_background": "light"
     },
     "output_type": "display_data"
    }
   ],
   "source": [
    "# testing normality in our  variables\n",
    "data[[\"price\",\"bathrooms\",\"condition\",\"sqft_living\",\"sqft_living15\",\"sqft_above\",\"sqft_lot\",\"sqft_lot15\",]]\\\n",
    "    .hist(figsize=(8, 10));"
   ]
  },
  {
   "cell_type": "markdown",
   "metadata": {},
   "source": [
    "From our output,it shows that our data is not normally distributed except sqft_lot15 which is fairly normal"
   ]
  },
  {
   "cell_type": "markdown",
   "metadata": {},
   "source": [
    "### Since the data is not normally distributed, it should be transformed"
   ]
  },
  {
   "cell_type": "code",
   "execution_count": 288,
   "metadata": {},
   "outputs": [
    {
     "data": {
      "text/html": [
       "<div>\n",
       "<style scoped>\n",
       "    .dataframe tbody tr th:only-of-type {\n",
       "        vertical-align: middle;\n",
       "    }\n",
       "\n",
       "    .dataframe tbody tr th {\n",
       "        vertical-align: top;\n",
       "    }\n",
       "\n",
       "    .dataframe thead th {\n",
       "        text-align: right;\n",
       "    }\n",
       "</style>\n",
       "<table border=\"1\" class=\"dataframe\">\n",
       "  <thead>\n",
       "    <tr style=\"text-align: right;\">\n",
       "      <th></th>\n",
       "      <th>price</th>\n",
       "      <th>sqft_living</th>\n",
       "      <th>sqft_living15</th>\n",
       "      <th>sqft_above</th>\n",
       "      <th>sqft_lot</th>\n",
       "      <th>sqft_lot15</th>\n",
       "    </tr>\n",
       "  </thead>\n",
       "  <tbody>\n",
       "    <tr>\n",
       "      <th>0</th>\n",
       "      <td>12.309982</td>\n",
       "      <td>7.073270</td>\n",
       "      <td>7.200425</td>\n",
       "      <td>7.073270</td>\n",
       "      <td>8.639411</td>\n",
       "      <td>8.639411</td>\n",
       "    </tr>\n",
       "    <tr>\n",
       "      <th>1</th>\n",
       "      <td>13.195614</td>\n",
       "      <td>7.851661</td>\n",
       "      <td>7.432484</td>\n",
       "      <td>7.682482</td>\n",
       "      <td>8.887653</td>\n",
       "      <td>8.941022</td>\n",
       "    </tr>\n",
       "    <tr>\n",
       "      <th>2</th>\n",
       "      <td>12.100712</td>\n",
       "      <td>6.646391</td>\n",
       "      <td>7.908387</td>\n",
       "      <td>6.646391</td>\n",
       "      <td>9.210340</td>\n",
       "      <td>8.994917</td>\n",
       "    </tr>\n",
       "    <tr>\n",
       "      <th>3</th>\n",
       "      <td>13.311329</td>\n",
       "      <td>7.580700</td>\n",
       "      <td>7.215240</td>\n",
       "      <td>6.956545</td>\n",
       "      <td>8.517193</td>\n",
       "      <td>8.517193</td>\n",
       "    </tr>\n",
       "    <tr>\n",
       "      <th>4</th>\n",
       "      <td>13.142166</td>\n",
       "      <td>7.426549</td>\n",
       "      <td>7.495542</td>\n",
       "      <td>7.426549</td>\n",
       "      <td>8.997147</td>\n",
       "      <td>8.923058</td>\n",
       "    </tr>\n",
       "  </tbody>\n",
       "</table>\n",
       "</div>"
      ],
      "text/plain": [
       "       price  sqft_living  sqft_living15  sqft_above  sqft_lot  sqft_lot15\n",
       "0  12.309982     7.073270       7.200425    7.073270  8.639411    8.639411\n",
       "1  13.195614     7.851661       7.432484    7.682482  8.887653    8.941022\n",
       "2  12.100712     6.646391       7.908387    6.646391  9.210340    8.994917\n",
       "3  13.311329     7.580700       7.215240    6.956545  8.517193    8.517193\n",
       "4  13.142166     7.426549       7.495542    7.426549  8.997147    8.923058"
      ]
     },
     "execution_count": 288,
     "metadata": {},
     "output_type": "execute_result"
    }
   ],
   "source": [
    "#transforming new data to normal data distribution\n",
    "#removing warnings message\n",
    "import warnings\n",
    "warnings.filterwarnings(\"ignore\")\n",
    "new_data_norm = np.log(data[['price','sqft_living','sqft_living15','sqft_above','sqft_lot','sqft_lot15']])\n",
    "new_data_norm.head()\n",
    "                                                                                                          "
   ]
  },
  {
   "cell_type": "code",
   "execution_count": 289,
   "metadata": {},
   "outputs": [
    {
     "data": {
      "text/plain": [
       "price            0\n",
       "sqft_living      0\n",
       "sqft_living15    0\n",
       "sqft_above       0\n",
       "sqft_lot         0\n",
       "sqft_lot15       0\n",
       "dtype: int64"
      ]
     },
     "execution_count": 289,
     "metadata": {},
     "output_type": "execute_result"
    }
   ],
   "source": [
    "# checking for missing values\n",
    "new_data_norm.isna().sum()"
   ]
  },
  {
   "cell_type": "code",
   "execution_count": 290,
   "metadata": {},
   "outputs": [
    {
     "data": {
      "image/png": "[encoded data removed]",
      "text/plain": [
       "<Figure size 576x720 with 6 Axes>"
      ]
     },
     "metadata": {
      "needs_background": "light"
     },
     "output_type": "display_data"
    }
   ],
   "source": [
    "# visualization normality in transformed data\n",
    "new_data_norm[[\"price\",\"sqft_living\",\"sqft_living15\",\"sqft_above\",\"sqft_lot\",\"sqft_lot15\"]]\\\n",
    "   .hist(figsize=(8, 10),color = \"lightgreen\");"
   ]
  },
  {
   "cell_type": "code",
   "execution_count": 293,
   "metadata": {},
   "outputs": [
    {
     "data": {
      "text/plain": [
       "(21597, 6)"
      ]
     },
     "execution_count": 293,
     "metadata": {},
     "output_type": "execute_result"
    }
   ],
   "source": [
    "# checking shape\n",
    "new_data_norm.shape"
   ]
  },
  {
   "cell_type": "code",
   "execution_count": 294,
   "metadata": {},
   "outputs": [
    {
     "name": "stdout",
     "output_type": "stream",
     "text": [
      "<class 'pandas.core.frame.DataFrame'>\n",
      "RangeIndex: 21597 entries, 0 to 21596\n",
      "Data columns (total 6 columns):\n",
      " #   Column         Non-Null Count  Dtype  \n",
      "---  ------         --------------  -----  \n",
      " 0   price          21597 non-null  float64\n",
      " 1   sqft_living    21597 non-null  float64\n",
      " 2   sqft_living15  21597 non-null  float64\n",
      " 3   sqft_above     21597 non-null  float64\n",
      " 4   sqft_lot       21597 non-null  float64\n",
      " 5   sqft_lot15     21597 non-null  float64\n",
      "dtypes: float64(6)\n",
      "memory usage: 1012.5 KB\n"
     ]
    }
   ],
   "source": [
    "# checking for data types\n",
    "new_data_norm.info()"
   ]
  },
  {
   "cell_type": "markdown",
   "metadata": {},
   "source": [
    "## Exploring transformed data"
   ]
  },
  {
   "cell_type": "code",
   "execution_count": 295,
   "metadata": {},
   "outputs": [
    {
     "data": {
      "text/plain": [
       "<AxesSubplot:xlabel='sqft_living', ylabel='price'>"
      ]
     },
     "execution_count": 295,
     "metadata": {},
     "output_type": "execute_result"
    },
    {
     "data": {
      "image/png": "[encoded data removed]",
      "text/plain": [
       "<Figure size 748.8x514.8 with 1 Axes>"
      ]
     },
     "metadata": {
      "needs_background": "light"
     },
     "output_type": "display_data"
    }
   ],
   "source": [
    "sns.regplot(x='sqft_living',y='price',data=new_data_norm)"
   ]
  },
  {
   "cell_type": "code",
   "execution_count": 296,
   "metadata": {},
   "outputs": [
    {
     "data": {
      "text/plain": [
       "<AxesSubplot:xlabel='sqft_living15', ylabel='price'>"
      ]
     },
     "execution_count": 296,
     "metadata": {},
     "output_type": "execute_result"
    },
    {
     "data": {
      "image/png": "[encoded data removed]",
      "text/plain": [
       "<Figure size 748.8x514.8 with 1 Axes>"
      ]
     },
     "metadata": {
      "needs_background": "light"
     },
     "output_type": "display_data"
    }
   ],
   "source": [
    "sns.regplot(x='sqft_living15',y='price',data=new_data_norm)"
   ]
  },
  {
   "cell_type": "code",
   "execution_count": 297,
   "metadata": {},
   "outputs": [
    {
     "data": {
      "text/plain": [
       "<AxesSubplot:xlabel='sqft_above', ylabel='price'>"
      ]
     },
     "execution_count": 297,
     "metadata": {},
     "output_type": "execute_result"
    },
    {
     "data": {
      "image/png": "[encoded data removed]",
      "text/plain": [
       "<Figure size 748.8x514.8 with 1 Axes>"
      ]
     },
     "metadata": {
      "needs_background": "light"
     },
     "output_type": "display_data"
    }
   ],
   "source": [
    "sns.regplot(x='sqft_above',y='price',data=new_data_norm)"
   ]
  },
  {
   "cell_type": "markdown",
   "metadata": {},
   "source": [
    "# 4. Data Analysis"
   ]
  },
  {
   "cell_type": "markdown",
   "metadata": {},
   "source": [
    "# Building a baseline Simple Linear Regression Model"
   ]
  },
  {
   "cell_type": "code",
   "execution_count": 298,
   "metadata": {},
   "outputs": [
    {
     "name": "stdout",
     "output_type": "stream",
     "text": [
      "           price  sqft_living  sqft_living15  sqft_above  sqft_lot  sqft_lot15\n",
      "0      12.309982     7.073270       7.200425    7.073270  8.639411    8.639411\n",
      "1      13.195614     7.851661       7.432484    7.682482  8.887653    8.941022\n",
      "2      12.100712     6.646391       7.908387    6.646391  9.210340    8.994917\n",
      "3      13.311329     7.580700       7.215240    6.956545  8.517193    8.517193\n",
      "4      13.142166     7.426549       7.495542    7.426549  8.997147    8.923058\n",
      "...          ...          ...            ...         ...       ...         ...\n",
      "21592  12.793859     7.333023       7.333023    7.333023  7.030857    7.319202\n",
      "21593  12.899220     7.745003       7.512071    7.745003  8.667852    8.881836\n",
      "21594  12.904459     6.927558       6.927558    6.927558  7.207860    7.604396\n",
      "21595  12.899220     7.377759       7.251345    7.377759  7.778211    7.160069\n",
      "21596  12.691580     6.927558       6.927558    6.927558  6.981006    7.213032\n",
      "\n",
      "[21597 rows x 6 columns]\n"
     ]
    }
   ],
   "source": [
    "print(new_data_norm)"
   ]
  },
  {
   "cell_type": "markdown",
   "metadata": {},
   "source": [
    "correlation helps to find the variables of interest which can help us come up with meaningful insights\n",
    "* variables of interest to be put under investigation are normally distributed variables \n",
    "       price\n",
    "       sqft_living = 0.6748\n",
    "       sqft_living15 =  0.6072\n",
    "       sqft_above = 0.5860\n",
    "       sqft_lot =  0.1383\n",
    "       "
   ]
  },
  {
   "cell_type": "markdown",
   "metadata": {},
   "source": [
    "From the provided outputs sqft_living15_norm is the most highly correlated therefore it is a baseline."
   ]
  },
  {
   "cell_type": "code",
   "execution_count": 299,
   "metadata": {},
   "outputs": [],
   "source": [
    "# defining highly correlated variable\n",
    "highly_correlated = new_data_norm[\"sqft_living\"]"
   ]
  },
  {
   "cell_type": "markdown",
   "metadata": {},
   "source": [
    "### plotting the predictor vs price "
   ]
  },
  {
   "cell_type": "code",
   "execution_count": 300,
   "metadata": {},
   "outputs": [
    {
     "data": {
      "text/plain": [
       "<matplotlib.collections.PathCollection at 0x20f28cd3070>"
      ]
     },
     "execution_count": 300,
     "metadata": {},
     "output_type": "execute_result"
    },
    {
     "data": {
      "image/png": "[encoded data removed]",
      "text/plain": [
       "<Figure size 748.8x514.8 with 1 Axes>"
      ]
     },
     "metadata": {
      "needs_background": "light"
     },
     "output_type": "display_data"
    }
   ],
   "source": [
    "# plotting most correlated vs price\n",
    "plt.scatter(highly_correlated,new_data_norm[\"price\"])"
   ]
  },
  {
   "cell_type": "markdown",
   "metadata": {},
   "source": [
    "Based on the visualization,linear regression appears to be the most appropriate approach to model our data."
   ]
  },
  {
   "cell_type": "markdown",
   "metadata": {},
   "source": [
    "## a.model 1"
   ]
  },
  {
   "cell_type": "code",
   "execution_count": 301,
   "metadata": {},
   "outputs": [],
   "source": [
    "# setting up variables for regression\n",
    "y = new_data_norm[\"price\"]\n",
    "x_baseline = new_data_norm[\"sqft_living\"]\n"
   ]
  },
  {
   "cell_type": "markdown",
   "metadata": {},
   "source": [
    "#### creating and fitting a simple linear regression"
   ]
  },
  {
   "cell_type": "code",
   "execution_count": 302,
   "metadata": {},
   "outputs": [
    {
     "name": "stdout",
     "output_type": "stream",
     "text": [
      "                            OLS Regression Results                            \n",
      "==============================================================================\n",
      "Dep. Variable:                  price   R-squared:                       0.455\n",
      "Model:                            OLS   Adj. R-squared:                  0.455\n",
      "Method:                 Least Squares   F-statistic:                 1.805e+04\n",
      "Date:                Fri, 30 Sep 2022   Prob (F-statistic):               0.00\n",
      "Time:                        13:44:48   Log-Likelihood:                -10231.\n",
      "No. Observations:               21597   AIC:                         2.047e+04\n",
      "Df Residuals:                   21595   BIC:                         2.048e+04\n",
      "Df Model:                           1                                         \n",
      "Covariance Type:            nonrobust                                         \n",
      "===============================================================================\n",
      "                  coef    std err          t      P>|t|      [0.025      0.975]\n",
      "-------------------------------------------------------------------------------\n",
      "const           6.7234      0.047    142.612      0.000       6.631       6.816\n",
      "sqft_living     0.8376      0.006    134.368      0.000       0.825       0.850\n",
      "==============================================================================\n",
      "Omnibus:                      123.577   Durbin-Watson:                   1.977\n",
      "Prob(Omnibus):                  0.000   Jarque-Bera (JB):              114.096\n",
      "Skew:                           0.143   Prob(JB):                     1.68e-25\n",
      "Kurtosis:                       2.787   Cond. No.                         137.\n",
      "==============================================================================\n",
      "\n",
      "Notes:\n",
      "[1] Standard Errors assume that the covariance matrix of the errors is correctly specified.\n"
     ]
    }
   ],
   "source": [
    "# importing regression  library\n",
    "import statsmodels.api as sm\n",
    "\n",
    "baseline_model = sm.OLS(y, sm.add_constant(x_baseline))\n",
    "baseline_results = baseline_model.fit()\n",
    "# summary statistics of the model\n",
    "print(baseline_results.summary())"
   ]
  },
  {
   "cell_type": "markdown",
   "metadata": {},
   "source": [
    "Defining our simple linear model\n",
    "\n",
    "price_norm =  6.7234   +  0.8376sqft_living"
   ]
  },
  {
   "cell_type": "markdown",
   "metadata": {},
   "source": [
    "### interpreting our models results"
   ]
  },
  {
   "cell_type": "markdown",
   "metadata": {},
   "source": [
    "sqft_living was the attribute most strongly correlated with price,\n",
    "therefore our model is describing this relationship.\n",
    "\n",
    "Overally, this model  is statistically significant because Prob (F-statistic):0.00 is less than 0.05(alpha) and R squared is 45.5% which explains about 45.5% of the variance in price indicating the other percentage is explained by the error.\n",
    "\n",
    "Also,the coefficient is statistically significant because the p value = 0.00 is less than our level of significance\n",
    "\n",
    "In a typical explanation,it means that a unit increase in sqft_living by one unit,\n",
    "will make the price of the house to increase by by  0.8376%,this is because coefficients are interpreted using percentage when they are log transformed.\n",
    "\n",
    "The intercept is at about 1.4418% , without considering sqft_living15 the price of houses is likely to be 1.4418% ."
   ]
  },
  {
   "cell_type": "markdown",
   "metadata": {},
   "source": [
    "## b. model 2\n",
    "Building a multiple linear regression using sqft_above_norm"
   ]
  },
  {
   "cell_type": "markdown",
   "metadata": {},
   "source": [
    "price = B0 + B1sqft_living + B2sqft_living15 + Ui\n",
    "\n",
    "    where B0 = Constant coefficient ,\n",
    "    \n",
    "          B1 = sqft_living_room coefficient ,\n",
    "          \n",
    "          B2 =sqft_above_norm coefficient\n",
    "          \n",
    "          Ui = random error"
   ]
  },
  {
   "cell_type": "code",
   "execution_count": 303,
   "metadata": {},
   "outputs": [],
   "source": [
    "#investigating the combined effect of sqft_living and sqft_above to the pricing of the house\n",
    "import statsmodels.api as sm\n",
    "\n",
    "x_multiplevariables = new_data_norm[[\"sqft_living\",\"sqft_living15\"]]"
   ]
  },
  {
   "cell_type": "code",
   "execution_count": 304,
   "metadata": {},
   "outputs": [],
   "source": [
    "multiple_model2 = sm.OLS(y,sm.add_constant(x_multiplevariables))\n",
    "multiple_model2\n",
    "\n",
    "# fit \n",
    "model2 = multiple_model2.fit()"
   ]
  },
  {
   "cell_type": "code",
   "execution_count": 305,
   "metadata": {},
   "outputs": [
    {
     "name": "stdout",
     "output_type": "stream",
     "text": [
      "                            OLS Regression Results                            \n",
      "==============================================================================\n",
      "Dep. Variable:                  price   R-squared:                       0.479\n",
      "Model:                            OLS   Adj. R-squared:                  0.479\n",
      "Method:                 Least Squares   F-statistic:                     9944.\n",
      "Date:                Fri, 30 Sep 2022   Prob (F-statistic):               0.00\n",
      "Time:                        13:44:55   Log-Likelihood:                -9742.3\n",
      "No. Observations:               21597   AIC:                         1.949e+04\n",
      "Df Residuals:                   21594   BIC:                         1.951e+04\n",
      "Df Model:                           2                                         \n",
      "Covariance Type:            nonrobust                                         \n",
      "=================================================================================\n",
      "                    coef    std err          t      P>|t|      [0.025      0.975]\n",
      "---------------------------------------------------------------------------------\n",
      "const             5.5280      0.060     92.711      0.000       5.411       5.645\n",
      "sqft_living       0.6213      0.009     67.795      0.000       0.603       0.639\n",
      "sqft_living15     0.3752      0.012     31.603      0.000       0.352       0.398\n",
      "==============================================================================\n",
      "Omnibus:                      150.085   Durbin-Watson:                   1.976\n",
      "Prob(Omnibus):                  0.000   Jarque-Bera (JB):              126.925\n",
      "Skew:                           0.128   Prob(JB):                     2.75e-28\n",
      "Kurtosis:                       2.726   Cond. No.                         249.\n",
      "==============================================================================\n",
      "\n",
      "Notes:\n",
      "[1] Standard Errors assume that the covariance matrix of the errors is correctly specified.\n"
     ]
    }
   ],
   "source": [
    "#summary statistics of fit data\n",
    "print(model2.summary())"
   ]
  },
  {
   "cell_type": "markdown",
   "metadata": {},
   "source": [
    "price = 5.5280 + 0.6213sqft_living + 0.3752sqft_living15 + Ui"
   ]
  },
  {
   "cell_type": "markdown",
   "metadata": {},
   "source": [
    "## Interpretation of results\n",
    "From the results above,we can see that the overall model is statistically significant because Prob (F-statistic): 0.00 is less than apha(0.05).\n",
    "\n",
    "The new explanatory variable added is statistically significant because adj R-squared increased from 45.5% to 47.9%, this also led to overall increase in 47.9% (percentage) variance explained by the model so that the remaining (52.1%) percentage is explained by the error.\n",
    "\n",
    "The constant coefficient is 5.5280 and sqft_living coefficient is 0.6213(it is in percentage because logarithmic transformation effect is interpreted as a %) and it is statically significant since p value = 0.00 which is less than 0.05 level of significance. Therefore,this is to say that a unit percentage change in sqft_living will increase price by 0.6213% holding all other explanatory variables constant and sqft_living15 will also increase price by 0.3752% holding all other regressors constant.\n",
    "\n",
    "The coefficient of sqft_living15 is 0.3752% which is statistically significant since p value = 0.000 < 0.05 , this implies that a percentage unit change in sqft_above_norm will increase price of house by 0.3752%."
   ]
  },
  {
   "cell_type": "markdown",
   "metadata": {},
   "source": [
    "### we are adding a new explanatory variable because R-squared is not higher enough to indicate our model is reliable"
   ]
  },
  {
   "cell_type": "markdown",
   "metadata": {},
   "source": [
    "## c. model 3\n",
    "price = B0 + B1sqft_living + B2sqft_living15 + B3sqft_above + Ui where\n",
    "\n",
    "                          B0 = Constant coefficient ,\n",
    "\n",
    "                          B1 = sqft_living_room coefficient ,\n",
    "\n",
    "                          B2 = sqft_above_norm coefficient\n",
    "\n",
    "                          B3 = sqft_living15_norm\n",
    "\n",
    "                          Ui = random error"
   ]
  },
  {
   "cell_type": "code",
   "execution_count": 306,
   "metadata": {},
   "outputs": [],
   "source": [
    "x_multiple3 = new_data_norm[[\"sqft_living\",\"sqft_living15\",\"sqft_above\"]]"
   ]
  },
  {
   "cell_type": "code",
   "execution_count": 307,
   "metadata": {},
   "outputs": [],
   "source": [
    "# creating multiple regression\n",
    "model3 = sm.OLS(y,sm.add_constant(x_multiple3))\n",
    "model3_fit = model3.fit()"
   ]
  },
  {
   "cell_type": "code",
   "execution_count": 308,
   "metadata": {},
   "outputs": [
    {
     "name": "stdout",
     "output_type": "stream",
     "text": [
      "                            OLS Regression Results                            \n",
      "==============================================================================\n",
      "Dep. Variable:                  price   R-squared:                       0.480\n",
      "Model:                            OLS   Adj. R-squared:                  0.480\n",
      "Method:                 Least Squares   F-statistic:                     6649.\n",
      "Date:                Fri, 30 Sep 2022   Prob (F-statistic):               0.00\n",
      "Time:                        13:44:59   Log-Likelihood:                -9727.0\n",
      "No. Observations:               21597   AIC:                         1.946e+04\n",
      "Df Residuals:                   21593   BIC:                         1.949e+04\n",
      "Df Model:                           3                                         \n",
      "Covariance Type:            nonrobust                                         \n",
      "=================================================================================\n",
      "                    coef    std err          t      P>|t|      [0.025      0.975]\n",
      "---------------------------------------------------------------------------------\n",
      "const             5.5408      0.060     92.919      0.000       5.424       5.658\n",
      "sqft_living       0.6728      0.013     51.510      0.000       0.647       0.698\n",
      "sqft_living15     0.3887      0.012     32.091      0.000       0.365       0.412\n",
      "sqft_above       -0.0680      0.012     -5.529      0.000      -0.092      -0.044\n",
      "==============================================================================\n",
      "Omnibus:                      135.412   Durbin-Watson:                   1.976\n",
      "Prob(Omnibus):                  0.000   Jarque-Bera (JB):              118.075\n",
      "Skew:                           0.130   Prob(JB):                     2.29e-26\n",
      "Kurtosis:                       2.748   Cond. No.                         303.\n",
      "==============================================================================\n",
      "\n",
      "Notes:\n",
      "[1] Standard Errors assume that the covariance matrix of the errors is correctly specified.\n"
     ]
    }
   ],
   "source": [
    "# summary\n",
    "print(model3_fit.summary())"
   ]
  },
  {
   "cell_type": "markdown",
   "metadata": {},
   "source": [
    "price = 5.5408 + 0.6728sqft_living + 0.0098sqft_living15 - 0.0680sqft_above"
   ]
  },
  {
   "cell_type": "markdown",
   "metadata": {},
   "source": [
    "## Interpretation of results\n",
    "From the results above,we can see that the overall model is statistically significant because Prob (F-statistic): 0.00 is less than apha(0.05).\n",
    "\n",
    "The new explanatory variable added is statistically significant because adj R-squared increased from  47.9% to 48.0, this also led to overall increase in 48.0% (percentage) variance explained by the model so that the remaining (52.0%) percentage is explained by the error.\n",
    "\n",
    "All the coefficients of sqft_living,sqft_living15 and sqft_above has a pvalue of 0.00 which is less than our level of significance impying that they are statistically significant.\n",
    "\n",
    "The constant coefficient is 5.5408 and sqft_living is 0.6728%(it is in percentage because logarithmic transformation effect is interpreted as a %) and it is statically significant since p value = 0.00 which is less than 0.05 level of significance. Therefore,this is to say that a unit percentage change in sqft_living will increase price by 0.6728% holding all other explanatory variables constant.\n",
    "\n",
    "sqft_living15 has a coefficient of 0.0098,which means a unit increase in sqft_living will increase price by 0.0098% holding all other independent variables constant and sqft_above has a coefficient of 0.0680 which has a negative effect on price meaning a unit increase in sqft_above will make price to decrease by 0.0680%. \n",
    "\n",
    "The coefficient of sqft_living15 is 0.3752% which is statistically significant since p value = 0.000 < 0.05 , this implies that a percentage unit change in sqft_above_norm will increase price of house by 0.3752%."
   ]
  },
  {
   "cell_type": "code",
   "execution_count": 309,
   "metadata": {},
   "outputs": [
    {
     "data": {
      "image/png": "[encoded data removed]",
      "text/plain": [
       "<Figure size 748.8x514.8 with 1 Axes>"
      ]
     },
     "metadata": {
      "needs_background": "light"
     },
     "output_type": "display_data"
    }
   ],
   "source": [
    "# testing for uniform variance because the overall model percentage increase was very negligible\n",
    "import matplotlib.pyplot as plt\n",
    "import numpy as np\n",
    "from sklearn.datasets import make_regression\n",
    "plt.style.use('seaborn-talk')\n",
    "\n",
    "#Generate synthetic regression with predetermined gaussian noise\n",
    "scale = 10\n",
    "x_multiple3, y, coef = make_regression(\n",
    "    n_samples=300, n_features=1, coef=True, noise=scale, random_state=8\n",
    ")\n",
    "y += 50\n",
    "\n",
    "#We know the fit line because we generated the data (no need to model)\n",
    "fit_line_generated = coef * x_multiple3.flatten() + 50\n",
    "\n",
    "# We set the scale of the normal distribution, so we know that 99% of the\n",
    "# points should be captured by these lines (empirical rule)\n",
    "top_line = fit_line_generated - 3 * scale\n",
    "bottom_line = fit_line_generated + 3 * scale\n",
    "\n",
    "# Plot data and lines\n",
    "fig, ax = plt.subplots()\n",
    "ax.scatter(x_multiple3, y, color=\"mediumaquamarine\", alpha=0.5, label=\"data points\")\n",
    "ax.plot(x_multiple3, fit_line_generated, color=\"gray\", label=\"best-fit line\")\n",
    "ax.plot(x_multiple3, top_line, color=\"red\")\n",
    "ax.plot(x_multiple3, bottom_line, color=\"red\")\n",
    "\n",
    "# Customize labels\n",
    "ax.set_xlabel(\"x\")\n",
    "ax.set_ylabel(\"y\")\n",
    "ax.set_title(\"Homoscedastic X vs. Y\")\n",
    "ax.legend();"
   ]
  },
  {
   "cell_type": "code",
   "execution_count": 310,
   "metadata": {},
   "outputs": [],
   "source": [
    "# alternatively we can use \n",
    "from statsmodels.stats.diagnostic import het_goldfeldquandt"
   ]
  },
  {
   "cell_type": "code",
   "execution_count": 311,
   "metadata": {},
   "outputs": [
    {
     "data": {
      "text/plain": [
       "(1.064941143291257, 0.7014676435876456, 'two-sided')"
      ]
     },
     "execution_count": 311,
     "metadata": {},
     "output_type": "execute_result"
    }
   ],
   "source": [
    "# testing for homoscedasticity\n",
    "het_goldfeldquandt(y,x_multiple3, alternative='two-sided')"
   ]
  },
  {
   "cell_type": "markdown",
   "metadata": {},
   "source": [
    "Since the p value = 0.70 > 0.05,so we reject null and consider our data has homogenous variance,therefore our model obtained above is correct."
   ]
  },
  {
   "cell_type": "code",
   "execution_count": 312,
   "metadata": {},
   "outputs": [
    {
     "data": {
      "image/png": "[encoded data removed]",
      "text/plain": [
       "<Figure size 748.8x514.8 with 1 Axes>"
      ]
     },
     "metadata": {
      "needs_background": "light"
     },
     "output_type": "display_data"
    }
   ],
   "source": [
    "# checking for linearity\n",
    "new_data_norm.plot.scatter(x='sqft_above', y='price')\n",
    "plt.xlabel('sqft_above', fontsize=18)\n",
    "plt.ylabel('price', fontsize=18)\n",
    "plt.show()"
   ]
  },
  {
   "cell_type": "markdown",
   "metadata": {},
   "source": [
    "##### we are adding a new explanatory variable because R-squared is not higher enough to indicate our model is reliable"
   ]
  },
  {
   "cell_type": "code",
   "execution_count": 313,
   "metadata": {
    "scrolled": true
   },
   "outputs": [
    {
     "data": {
      "text/html": [
       "<div>\n",
       "<style scoped>\n",
       "    .dataframe tbody tr th:only-of-type {\n",
       "        vertical-align: middle;\n",
       "    }\n",
       "\n",
       "    .dataframe tbody tr th {\n",
       "        vertical-align: top;\n",
       "    }\n",
       "\n",
       "    .dataframe thead th {\n",
       "        text-align: right;\n",
       "    }\n",
       "</style>\n",
       "<table border=\"1\" class=\"dataframe\">\n",
       "  <thead>\n",
       "    <tr style=\"text-align: right;\">\n",
       "      <th></th>\n",
       "      <th>sqft_living</th>\n",
       "      <th>sqft_living15</th>\n",
       "      <th>sqft_above</th>\n",
       "      <th>sqft_lot</th>\n",
       "      <th>sqft_lot15</th>\n",
       "    </tr>\n",
       "  </thead>\n",
       "  <tbody>\n",
       "    <tr>\n",
       "      <th>0</th>\n",
       "      <td>7.073270</td>\n",
       "      <td>7.200425</td>\n",
       "      <td>7.073270</td>\n",
       "      <td>8.639411</td>\n",
       "      <td>8.639411</td>\n",
       "    </tr>\n",
       "    <tr>\n",
       "      <th>1</th>\n",
       "      <td>7.851661</td>\n",
       "      <td>7.432484</td>\n",
       "      <td>7.682482</td>\n",
       "      <td>8.887653</td>\n",
       "      <td>8.941022</td>\n",
       "    </tr>\n",
       "    <tr>\n",
       "      <th>2</th>\n",
       "      <td>6.646391</td>\n",
       "      <td>7.908387</td>\n",
       "      <td>6.646391</td>\n",
       "      <td>9.210340</td>\n",
       "      <td>8.994917</td>\n",
       "    </tr>\n",
       "    <tr>\n",
       "      <th>3</th>\n",
       "      <td>7.580700</td>\n",
       "      <td>7.215240</td>\n",
       "      <td>6.956545</td>\n",
       "      <td>8.517193</td>\n",
       "      <td>8.517193</td>\n",
       "    </tr>\n",
       "    <tr>\n",
       "      <th>4</th>\n",
       "      <td>7.426549</td>\n",
       "      <td>7.495542</td>\n",
       "      <td>7.426549</td>\n",
       "      <td>8.997147</td>\n",
       "      <td>8.923058</td>\n",
       "    </tr>\n",
       "  </tbody>\n",
       "</table>\n",
       "</div>"
      ],
      "text/plain": [
       "   sqft_living  sqft_living15  sqft_above  sqft_lot  sqft_lot15\n",
       "0     7.073270       7.200425    7.073270  8.639411    8.639411\n",
       "1     7.851661       7.432484    7.682482  8.887653    8.941022\n",
       "2     6.646391       7.908387    6.646391  9.210340    8.994917\n",
       "3     7.580700       7.215240    6.956545  8.517193    8.517193\n",
       "4     7.426549       7.495542    7.426549  8.997147    8.923058"
      ]
     },
     "execution_count": 313,
     "metadata": {},
     "output_type": "execute_result"
    }
   ],
   "source": [
    "# adding more independent variables\n",
    "x_multiple4 = new_data_norm[[\"sqft_living\",\"sqft_living15\",\"sqft_above\",\"sqft_lot\",\"sqft_lot15\"]]\n",
    "x_multiple4.head()"
   ]
  },
  {
   "cell_type": "code",
   "execution_count": 314,
   "metadata": {},
   "outputs": [],
   "source": [
    "#replace all infs and empty cells with NaN and then fill all NaNs with a 0 value\n",
    "new_data_norm['price']= new_data_norm['price'].replace([np.inf, -np.inf],np.nan)\n",
    "new_data_norm = new_data_norm.replace(r'\\s+', np.nan, regex=True).replace('', np.nan)\n",
    "new_data_norm.fillna(value=0, axis=1,inplace=True)"
   ]
  },
  {
   "cell_type": "code",
   "execution_count": 315,
   "metadata": {},
   "outputs": [
    {
     "name": "stdout",
     "output_type": "stream",
     "text": [
      "(300,)\n",
      "(300,)\n",
      "(21597,)\n",
      "(21597,)\n",
      "(21597,)\n",
      "(21597,)\n"
     ]
    }
   ],
   "source": [
    "# Check shape of variables to confirm they are of the same size\n",
    "print(y.shape)\n",
    "print(y.shape)\n",
    "print(x_multiple4[\"sqft_living\"].shape)\n",
    "print(x_multiple4[\"sqft_living15\"].shape)\n",
    "print(x_multiple4[\"sqft_above\"].shape)\n",
    "print(x_multiple4[\"sqft_lot\"].shape)"
   ]
  },
  {
   "cell_type": "code",
   "execution_count": 316,
   "metadata": {},
   "outputs": [],
   "source": [
    "model4 = sm.OLS(new_data_norm[\"price\"],sm.add_constant(x_multiple4))"
   ]
  },
  {
   "cell_type": "code",
   "execution_count": 317,
   "metadata": {
    "scrolled": true
   },
   "outputs": [
    {
     "name": "stdout",
     "output_type": "stream",
     "text": [
      "                            OLS Regression Results                            \n",
      "==============================================================================\n",
      "Dep. Variable:                  price   R-squared:                       0.496\n",
      "Model:                            OLS   Adj. R-squared:                  0.495\n",
      "Method:                 Least Squares   F-statistic:                     4242.\n",
      "Date:                Fri, 30 Sep 2022   Prob (F-statistic):               0.00\n",
      "Time:                        13:45:10   Log-Likelihood:                -9402.2\n",
      "No. Observations:               21597   AIC:                         1.882e+04\n",
      "Df Residuals:                   21591   BIC:                         1.886e+04\n",
      "Df Model:                           5                                         \n",
      "Covariance Type:            nonrobust                                         \n",
      "=================================================================================\n",
      "                    coef    std err          t      P>|t|      [0.025      0.975]\n",
      "---------------------------------------------------------------------------------\n",
      "const             5.6954      0.059     96.111      0.000       5.579       5.812\n",
      "sqft_living       0.6768      0.013     52.476      0.000       0.651       0.702\n",
      "sqft_living15     0.4563      0.012     37.237      0.000       0.432       0.480\n",
      "sqft_above       -0.0574      0.012     -4.735      0.000      -0.081      -0.034\n",
      "sqft_lot         -0.0190      0.007     -2.637      0.008      -0.033      -0.005\n",
      "sqft_lot15       -0.0672      0.008     -8.387      0.000      -0.083      -0.051\n",
      "==============================================================================\n",
      "Omnibus:                       65.152   Durbin-Watson:                   1.976\n",
      "Prob(Omnibus):                  0.000   Jarque-Bera (JB):               61.538\n",
      "Skew:                           0.104   Prob(JB):                     4.34e-14\n",
      "Kurtosis:                       2.843   Cond. No.                         427.\n",
      "==============================================================================\n",
      "\n",
      "Notes:\n",
      "[1] Standard Errors assume that the covariance matrix of the errors is correctly specified.\n"
     ]
    }
   ],
   "source": [
    "model4_fit = model4.fit()\n",
    "print(model4_fit.summary())"
   ]
  },
  {
   "cell_type": "code",
   "execution_count": 361,
   "metadata": {},
   "outputs": [],
   "source": [
    "x_multiple5 = new_data_norm[[\"sqft_living\",\"sqft_living15\",\"sqft_above\",\"sqft_lot\",\"sqft_lot\"]]"
   ]
  },
  {
   "cell_type": "code",
   "execution_count": 362,
   "metadata": {},
   "outputs": [],
   "source": [
    "model_5 = sm.OLS(new_data_norm[\"price\"],sm.add_constant(x_multiple5))\n",
    "model_fit = model_5.fit()"
   ]
  },
  {
   "cell_type": "code",
   "execution_count": 360,
   "metadata": {},
   "outputs": [
    {
     "name": "stdout",
     "output_type": "stream",
     "text": [
      "                            OLS Regression Results                            \n",
      "==============================================================================\n",
      "Dep. Variable:                  price   R-squared:                       0.494\n",
      "Model:                            OLS   Adj. R-squared:                  0.494\n",
      "Method:                 Least Squares   F-statistic:                     5269.\n",
      "Date:                Fri, 30 Sep 2022   Prob (F-statistic):               0.00\n",
      "Time:                        14:09:20   Log-Likelihood:                -9437.3\n",
      "No. Observations:               21597   AIC:                         1.888e+04\n",
      "Df Residuals:                   21592   BIC:                         1.892e+04\n",
      "Df Model:                           4                                         \n",
      "Covariance Type:            nonrobust                                         \n",
      "=================================================================================\n",
      "                    coef    std err          t      P>|t|      [0.025      0.975]\n",
      "---------------------------------------------------------------------------------\n",
      "const             5.6396      0.059     95.621      0.000       5.524       5.755\n",
      "sqft_living       0.6831      0.013     52.973      0.000       0.658       0.708\n",
      "sqft_living15     0.4416      0.012     36.353      0.000       0.418       0.465\n",
      "sqft_above       -0.0561      0.012     -4.619      0.000      -0.080      -0.032\n",
      "sqft_lot         -0.0739      0.003    -24.231      0.000      -0.080      -0.068\n",
      "==============================================================================\n",
      "Omnibus:                       70.535   Durbin-Watson:                   1.975\n",
      "Prob(Omnibus):                  0.000   Jarque-Bera (JB):               67.075\n",
      "Skew:                           0.112   Prob(JB):                     2.72e-15\n",
      "Kurtosis:                       2.844   Cond. No.                         369.\n",
      "==============================================================================\n",
      "\n",
      "Notes:\n",
      "[1] Standard Errors assume that the covariance matrix of the errors is correctly specified.\n"
     ]
    }
   ],
   "source": [
    "print(model_fit.summary())"
   ]
  },
  {
   "cell_type": "markdown",
   "metadata": {},
   "source": [
    "### Preprocessing Categorical Variable(One Hot encoding)"
   ]
  },
  {
   "cell_type": "code",
   "execution_count": 354,
   "metadata": {
    "scrolled": true
   },
   "outputs": [
    {
     "data": {
      "text/html": [
       "<div>\n",
       "<style scoped>\n",
       "    .dataframe tbody tr th:only-of-type {\n",
       "        vertical-align: middle;\n",
       "    }\n",
       "\n",
       "    .dataframe tbody tr th {\n",
       "        vertical-align: top;\n",
       "    }\n",
       "\n",
       "    .dataframe thead th {\n",
       "        text-align: right;\n",
       "    }\n",
       "</style>\n",
       "<table border=\"1\" class=\"dataframe\">\n",
       "  <thead>\n",
       "    <tr style=\"text-align: right;\">\n",
       "      <th></th>\n",
       "      <th>condition</th>\n",
       "    </tr>\n",
       "  </thead>\n",
       "  <tbody>\n",
       "    <tr>\n",
       "      <th>16729</th>\n",
       "      <td>Average</td>\n",
       "    </tr>\n",
       "    <tr>\n",
       "      <th>10996</th>\n",
       "      <td>Average</td>\n",
       "    </tr>\n",
       "    <tr>\n",
       "      <th>12089</th>\n",
       "      <td>Average</td>\n",
       "    </tr>\n",
       "    <tr>\n",
       "      <th>554</th>\n",
       "      <td>Very Good</td>\n",
       "    </tr>\n",
       "    <tr>\n",
       "      <th>16075</th>\n",
       "      <td>Very Good</td>\n",
       "    </tr>\n",
       "    <tr>\n",
       "      <th>17962</th>\n",
       "      <td>Good</td>\n",
       "    </tr>\n",
       "    <tr>\n",
       "      <th>13</th>\n",
       "      <td>Good</td>\n",
       "    </tr>\n",
       "    <tr>\n",
       "      <th>4960</th>\n",
       "      <td>Average</td>\n",
       "    </tr>\n",
       "    <tr>\n",
       "      <th>16928</th>\n",
       "      <td>Poor</td>\n",
       "    </tr>\n",
       "    <tr>\n",
       "      <th>3780</th>\n",
       "      <td>Average</td>\n",
       "    </tr>\n",
       "  </tbody>\n",
       "</table>\n",
       "</div>"
      ],
      "text/plain": [
       "       condition\n",
       "16729    Average\n",
       "10996    Average\n",
       "12089    Average\n",
       "554    Very Good\n",
       "16075  Very Good\n",
       "17962       Good\n",
       "13          Good\n",
       "4960     Average\n",
       "16928       Poor\n",
       "3780     Average"
      ]
     },
     "execution_count": 354,
     "metadata": {},
     "output_type": "execute_result"
    }
   ],
   "source": [
    "x_iterated = data[[\"condition\"]].copy()\n",
    "x_iterated.sample(10,random_state = 1)"
   ]
  },
  {
   "cell_type": "code",
   "execution_count": 355,
   "metadata": {},
   "outputs": [
    {
     "data": {
      "text/html": [
       "<div>\n",
       "<style scoped>\n",
       "    .dataframe tbody tr th:only-of-type {\n",
       "        vertical-align: middle;\n",
       "    }\n",
       "\n",
       "    .dataframe tbody tr th {\n",
       "        vertical-align: top;\n",
       "    }\n",
       "\n",
       "    .dataframe thead th {\n",
       "        text-align: right;\n",
       "    }\n",
       "</style>\n",
       "<table border=\"1\" class=\"dataframe\">\n",
       "  <thead>\n",
       "    <tr style=\"text-align: right;\">\n",
       "      <th></th>\n",
       "      <th>condition_Average</th>\n",
       "      <th>condition_Fair</th>\n",
       "      <th>condition_Good</th>\n",
       "      <th>condition_Poor</th>\n",
       "      <th>condition_Very Good</th>\n",
       "    </tr>\n",
       "  </thead>\n",
       "  <tbody>\n",
       "    <tr>\n",
       "      <th>0</th>\n",
       "      <td>1</td>\n",
       "      <td>0</td>\n",
       "      <td>0</td>\n",
       "      <td>0</td>\n",
       "      <td>0</td>\n",
       "    </tr>\n",
       "    <tr>\n",
       "      <th>1</th>\n",
       "      <td>1</td>\n",
       "      <td>0</td>\n",
       "      <td>0</td>\n",
       "      <td>0</td>\n",
       "      <td>0</td>\n",
       "    </tr>\n",
       "    <tr>\n",
       "      <th>2</th>\n",
       "      <td>1</td>\n",
       "      <td>0</td>\n",
       "      <td>0</td>\n",
       "      <td>0</td>\n",
       "      <td>0</td>\n",
       "    </tr>\n",
       "    <tr>\n",
       "      <th>3</th>\n",
       "      <td>0</td>\n",
       "      <td>0</td>\n",
       "      <td>0</td>\n",
       "      <td>0</td>\n",
       "      <td>1</td>\n",
       "    </tr>\n",
       "    <tr>\n",
       "      <th>4</th>\n",
       "      <td>1</td>\n",
       "      <td>0</td>\n",
       "      <td>0</td>\n",
       "      <td>0</td>\n",
       "      <td>0</td>\n",
       "    </tr>\n",
       "    <tr>\n",
       "      <th>...</th>\n",
       "      <td>...</td>\n",
       "      <td>...</td>\n",
       "      <td>...</td>\n",
       "      <td>...</td>\n",
       "      <td>...</td>\n",
       "    </tr>\n",
       "    <tr>\n",
       "      <th>21592</th>\n",
       "      <td>1</td>\n",
       "      <td>0</td>\n",
       "      <td>0</td>\n",
       "      <td>0</td>\n",
       "      <td>0</td>\n",
       "    </tr>\n",
       "    <tr>\n",
       "      <th>21593</th>\n",
       "      <td>1</td>\n",
       "      <td>0</td>\n",
       "      <td>0</td>\n",
       "      <td>0</td>\n",
       "      <td>0</td>\n",
       "    </tr>\n",
       "    <tr>\n",
       "      <th>21594</th>\n",
       "      <td>1</td>\n",
       "      <td>0</td>\n",
       "      <td>0</td>\n",
       "      <td>0</td>\n",
       "      <td>0</td>\n",
       "    </tr>\n",
       "    <tr>\n",
       "      <th>21595</th>\n",
       "      <td>1</td>\n",
       "      <td>0</td>\n",
       "      <td>0</td>\n",
       "      <td>0</td>\n",
       "      <td>0</td>\n",
       "    </tr>\n",
       "    <tr>\n",
       "      <th>21596</th>\n",
       "      <td>1</td>\n",
       "      <td>0</td>\n",
       "      <td>0</td>\n",
       "      <td>0</td>\n",
       "      <td>0</td>\n",
       "    </tr>\n",
       "  </tbody>\n",
       "</table>\n",
       "<p>21597 rows × 5 columns</p>\n",
       "</div>"
      ],
      "text/plain": [
       "       condition_Average  condition_Fair  condition_Good  condition_Poor  \\\n",
       "0                      1               0               0               0   \n",
       "1                      1               0               0               0   \n",
       "2                      1               0               0               0   \n",
       "3                      0               0               0               0   \n",
       "4                      1               0               0               0   \n",
       "...                  ...             ...             ...             ...   \n",
       "21592                  1               0               0               0   \n",
       "21593                  1               0               0               0   \n",
       "21594                  1               0               0               0   \n",
       "21595                  1               0               0               0   \n",
       "21596                  1               0               0               0   \n",
       "\n",
       "       condition_Very Good  \n",
       "0                        0  \n",
       "1                        0  \n",
       "2                        0  \n",
       "3                        1  \n",
       "4                        0  \n",
       "...                    ...  \n",
       "21592                    0  \n",
       "21593                    0  \n",
       "21594                    0  \n",
       "21595                    0  \n",
       "21596                    0  \n",
       "\n",
       "[21597 rows x 5 columns]"
      ]
     },
     "execution_count": 355,
     "metadata": {},
     "output_type": "execute_result"
    }
   ],
   "source": [
    "x_iterated2 = pd.get_dummies(x_iterated, columns= [\"condition\"])\n",
    "x_iterated2"
   ]
  },
  {
   "cell_type": "code",
   "execution_count": 356,
   "metadata": {},
   "outputs": [
    {
     "data": {
      "text/plain": [
       "Average      14020\n",
       "Good          5677\n",
       "Very Good     1701\n",
       "Fair           170\n",
       "Poor            29\n",
       "Name: condition, dtype: int64"
      ]
     },
     "execution_count": 356,
     "metadata": {},
     "output_type": "execute_result"
    }
   ],
   "source": [
    "data[\"condition\"].value_counts()"
   ]
  },
  {
   "cell_type": "code",
   "execution_count": null,
   "metadata": {},
   "outputs": [],
   "source": [
    "y = b0 + b1+ b2x2+ b3x3 +b4x4 + b5x5 +b6x6"
   ]
  },
  {
   "cell_type": "code",
   "execution_count": 431,
   "metadata": {},
   "outputs": [
    {
     "data": {
      "text/html": [
       "<div>\n",
       "<style scoped>\n",
       "    .dataframe tbody tr th:only-of-type {\n",
       "        vertical-align: middle;\n",
       "    }\n",
       "\n",
       "    .dataframe tbody tr th {\n",
       "        vertical-align: top;\n",
       "    }\n",
       "\n",
       "    .dataframe thead th {\n",
       "        text-align: right;\n",
       "    }\n",
       "</style>\n",
       "<table border=\"1\" class=\"dataframe\">\n",
       "  <thead>\n",
       "    <tr style=\"text-align: right;\">\n",
       "      <th></th>\n",
       "      <th>price</th>\n",
       "      <th>sqft_living</th>\n",
       "      <th>sqft_living15</th>\n",
       "      <th>sqft_above</th>\n",
       "      <th>sqft_lot</th>\n",
       "      <th>sqft_lot15</th>\n",
       "      <th>condition_Average</th>\n",
       "      <th>condition_Fair</th>\n",
       "      <th>condition_Good</th>\n",
       "      <th>condition_Poor</th>\n",
       "      <th>condition_Very Good</th>\n",
       "    </tr>\n",
       "  </thead>\n",
       "  <tbody>\n",
       "    <tr>\n",
       "      <th>0</th>\n",
       "      <td>12.309982</td>\n",
       "      <td>7.073270</td>\n",
       "      <td>7.200425</td>\n",
       "      <td>7.073270</td>\n",
       "      <td>8.639411</td>\n",
       "      <td>8.639411</td>\n",
       "      <td>1</td>\n",
       "      <td>0</td>\n",
       "      <td>0</td>\n",
       "      <td>0</td>\n",
       "      <td>0</td>\n",
       "    </tr>\n",
       "    <tr>\n",
       "      <th>1</th>\n",
       "      <td>13.195614</td>\n",
       "      <td>7.851661</td>\n",
       "      <td>7.432484</td>\n",
       "      <td>7.682482</td>\n",
       "      <td>8.887653</td>\n",
       "      <td>8.941022</td>\n",
       "      <td>1</td>\n",
       "      <td>0</td>\n",
       "      <td>0</td>\n",
       "      <td>0</td>\n",
       "      <td>0</td>\n",
       "    </tr>\n",
       "    <tr>\n",
       "      <th>2</th>\n",
       "      <td>12.100712</td>\n",
       "      <td>6.646391</td>\n",
       "      <td>7.908387</td>\n",
       "      <td>6.646391</td>\n",
       "      <td>9.210340</td>\n",
       "      <td>8.994917</td>\n",
       "      <td>1</td>\n",
       "      <td>0</td>\n",
       "      <td>0</td>\n",
       "      <td>0</td>\n",
       "      <td>0</td>\n",
       "    </tr>\n",
       "    <tr>\n",
       "      <th>3</th>\n",
       "      <td>13.311329</td>\n",
       "      <td>7.580700</td>\n",
       "      <td>7.215240</td>\n",
       "      <td>6.956545</td>\n",
       "      <td>8.517193</td>\n",
       "      <td>8.517193</td>\n",
       "      <td>0</td>\n",
       "      <td>0</td>\n",
       "      <td>0</td>\n",
       "      <td>0</td>\n",
       "      <td>1</td>\n",
       "    </tr>\n",
       "    <tr>\n",
       "      <th>4</th>\n",
       "      <td>13.142166</td>\n",
       "      <td>7.426549</td>\n",
       "      <td>7.495542</td>\n",
       "      <td>7.426549</td>\n",
       "      <td>8.997147</td>\n",
       "      <td>8.923058</td>\n",
       "      <td>1</td>\n",
       "      <td>0</td>\n",
       "      <td>0</td>\n",
       "      <td>0</td>\n",
       "      <td>0</td>\n",
       "    </tr>\n",
       "    <tr>\n",
       "      <th>...</th>\n",
       "      <td>...</td>\n",
       "      <td>...</td>\n",
       "      <td>...</td>\n",
       "      <td>...</td>\n",
       "      <td>...</td>\n",
       "      <td>...</td>\n",
       "      <td>...</td>\n",
       "      <td>...</td>\n",
       "      <td>...</td>\n",
       "      <td>...</td>\n",
       "      <td>...</td>\n",
       "    </tr>\n",
       "    <tr>\n",
       "      <th>21592</th>\n",
       "      <td>12.793859</td>\n",
       "      <td>7.333023</td>\n",
       "      <td>7.333023</td>\n",
       "      <td>7.333023</td>\n",
       "      <td>7.030857</td>\n",
       "      <td>7.319202</td>\n",
       "      <td>1</td>\n",
       "      <td>0</td>\n",
       "      <td>0</td>\n",
       "      <td>0</td>\n",
       "      <td>0</td>\n",
       "    </tr>\n",
       "    <tr>\n",
       "      <th>21593</th>\n",
       "      <td>12.899220</td>\n",
       "      <td>7.745003</td>\n",
       "      <td>7.512071</td>\n",
       "      <td>7.745003</td>\n",
       "      <td>8.667852</td>\n",
       "      <td>8.881836</td>\n",
       "      <td>1</td>\n",
       "      <td>0</td>\n",
       "      <td>0</td>\n",
       "      <td>0</td>\n",
       "      <td>0</td>\n",
       "    </tr>\n",
       "    <tr>\n",
       "      <th>21594</th>\n",
       "      <td>12.904459</td>\n",
       "      <td>6.927558</td>\n",
       "      <td>6.927558</td>\n",
       "      <td>6.927558</td>\n",
       "      <td>7.207860</td>\n",
       "      <td>7.604396</td>\n",
       "      <td>1</td>\n",
       "      <td>0</td>\n",
       "      <td>0</td>\n",
       "      <td>0</td>\n",
       "      <td>0</td>\n",
       "    </tr>\n",
       "    <tr>\n",
       "      <th>21595</th>\n",
       "      <td>12.899220</td>\n",
       "      <td>7.377759</td>\n",
       "      <td>7.251345</td>\n",
       "      <td>7.377759</td>\n",
       "      <td>7.778211</td>\n",
       "      <td>7.160069</td>\n",
       "      <td>1</td>\n",
       "      <td>0</td>\n",
       "      <td>0</td>\n",
       "      <td>0</td>\n",
       "      <td>0</td>\n",
       "    </tr>\n",
       "    <tr>\n",
       "      <th>21596</th>\n",
       "      <td>12.691580</td>\n",
       "      <td>6.927558</td>\n",
       "      <td>6.927558</td>\n",
       "      <td>6.927558</td>\n",
       "      <td>6.981006</td>\n",
       "      <td>7.213032</td>\n",
       "      <td>1</td>\n",
       "      <td>0</td>\n",
       "      <td>0</td>\n",
       "      <td>0</td>\n",
       "      <td>0</td>\n",
       "    </tr>\n",
       "  </tbody>\n",
       "</table>\n",
       "<p>21597 rows × 11 columns</p>\n",
       "</div>"
      ],
      "text/plain": [
       "           price  sqft_living  sqft_living15  sqft_above  sqft_lot  \\\n",
       "0      12.309982     7.073270       7.200425    7.073270  8.639411   \n",
       "1      13.195614     7.851661       7.432484    7.682482  8.887653   \n",
       "2      12.100712     6.646391       7.908387    6.646391  9.210340   \n",
       "3      13.311329     7.580700       7.215240    6.956545  8.517193   \n",
       "4      13.142166     7.426549       7.495542    7.426549  8.997147   \n",
       "...          ...          ...            ...         ...       ...   \n",
       "21592  12.793859     7.333023       7.333023    7.333023  7.030857   \n",
       "21593  12.899220     7.745003       7.512071    7.745003  8.667852   \n",
       "21594  12.904459     6.927558       6.927558    6.927558  7.207860   \n",
       "21595  12.899220     7.377759       7.251345    7.377759  7.778211   \n",
       "21596  12.691580     6.927558       6.927558    6.927558  6.981006   \n",
       "\n",
       "       sqft_lot15  condition_Average  condition_Fair  condition_Good  \\\n",
       "0        8.639411                  1               0               0   \n",
       "1        8.941022                  1               0               0   \n",
       "2        8.994917                  1               0               0   \n",
       "3        8.517193                  0               0               0   \n",
       "4        8.923058                  1               0               0   \n",
       "...           ...                ...             ...             ...   \n",
       "21592    7.319202                  1               0               0   \n",
       "21593    8.881836                  1               0               0   \n",
       "21594    7.604396                  1               0               0   \n",
       "21595    7.160069                  1               0               0   \n",
       "21596    7.213032                  1               0               0   \n",
       "\n",
       "       condition_Poor  condition_Very Good  \n",
       "0                   0                    0  \n",
       "1                   0                    0  \n",
       "2                   0                    0  \n",
       "3                   0                    1  \n",
       "4                   0                    0  \n",
       "...               ...                  ...  \n",
       "21592               0                    0  \n",
       "21593               0                    0  \n",
       "21594               0                    0  \n",
       "21595               0                    0  \n",
       "21596               0                    0  \n",
       "\n",
       "[21597 rows x 11 columns]"
      ]
     },
     "execution_count": 431,
     "metadata": {},
     "output_type": "execute_result"
    }
   ],
   "source": [
    "# perfoming join to get final predicting modelling\n",
    "joined_data = new_data_norm.join(x_iterated2)\n",
    "joined_data"
   ]
  },
  {
   "cell_type": "code",
   "execution_count": 426,
   "metadata": {},
   "outputs": [
    {
     "data": {
      "text/html": [
       "<div>\n",
       "<style scoped>\n",
       "    .dataframe tbody tr th:only-of-type {\n",
       "        vertical-align: middle;\n",
       "    }\n",
       "\n",
       "    .dataframe tbody tr th {\n",
       "        vertical-align: top;\n",
       "    }\n",
       "\n",
       "    .dataframe thead th {\n",
       "        text-align: right;\n",
       "    }\n",
       "</style>\n",
       "<table border=\"1\" class=\"dataframe\">\n",
       "  <thead>\n",
       "    <tr style=\"text-align: right;\">\n",
       "      <th></th>\n",
       "      <th>sqft_living</th>\n",
       "      <th>sqft_living15</th>\n",
       "      <th>sqft_above</th>\n",
       "      <th>sqft_lot</th>\n",
       "      <th>sqft_lot15</th>\n",
       "      <th>condition_Fair</th>\n",
       "      <th>condition_Good</th>\n",
       "      <th>condition_Poor</th>\n",
       "      <th>condition_Very Good</th>\n",
       "    </tr>\n",
       "  </thead>\n",
       "  <tbody>\n",
       "    <tr>\n",
       "      <th>0</th>\n",
       "      <td>7.073270</td>\n",
       "      <td>7.200425</td>\n",
       "      <td>7.073270</td>\n",
       "      <td>8.639411</td>\n",
       "      <td>8.639411</td>\n",
       "      <td>0</td>\n",
       "      <td>0</td>\n",
       "      <td>0</td>\n",
       "      <td>0</td>\n",
       "    </tr>\n",
       "    <tr>\n",
       "      <th>1</th>\n",
       "      <td>7.851661</td>\n",
       "      <td>7.432484</td>\n",
       "      <td>7.682482</td>\n",
       "      <td>8.887653</td>\n",
       "      <td>8.941022</td>\n",
       "      <td>0</td>\n",
       "      <td>0</td>\n",
       "      <td>0</td>\n",
       "      <td>0</td>\n",
       "    </tr>\n",
       "    <tr>\n",
       "      <th>2</th>\n",
       "      <td>6.646391</td>\n",
       "      <td>7.908387</td>\n",
       "      <td>6.646391</td>\n",
       "      <td>9.210340</td>\n",
       "      <td>8.994917</td>\n",
       "      <td>0</td>\n",
       "      <td>0</td>\n",
       "      <td>0</td>\n",
       "      <td>0</td>\n",
       "    </tr>\n",
       "    <tr>\n",
       "      <th>3</th>\n",
       "      <td>7.580700</td>\n",
       "      <td>7.215240</td>\n",
       "      <td>6.956545</td>\n",
       "      <td>8.517193</td>\n",
       "      <td>8.517193</td>\n",
       "      <td>0</td>\n",
       "      <td>0</td>\n",
       "      <td>0</td>\n",
       "      <td>1</td>\n",
       "    </tr>\n",
       "    <tr>\n",
       "      <th>4</th>\n",
       "      <td>7.426549</td>\n",
       "      <td>7.495542</td>\n",
       "      <td>7.426549</td>\n",
       "      <td>8.997147</td>\n",
       "      <td>8.923058</td>\n",
       "      <td>0</td>\n",
       "      <td>0</td>\n",
       "      <td>0</td>\n",
       "      <td>0</td>\n",
       "    </tr>\n",
       "    <tr>\n",
       "      <th>...</th>\n",
       "      <td>...</td>\n",
       "      <td>...</td>\n",
       "      <td>...</td>\n",
       "      <td>...</td>\n",
       "      <td>...</td>\n",
       "      <td>...</td>\n",
       "      <td>...</td>\n",
       "      <td>...</td>\n",
       "      <td>...</td>\n",
       "    </tr>\n",
       "    <tr>\n",
       "      <th>21592</th>\n",
       "      <td>7.333023</td>\n",
       "      <td>7.333023</td>\n",
       "      <td>7.333023</td>\n",
       "      <td>7.030857</td>\n",
       "      <td>7.319202</td>\n",
       "      <td>0</td>\n",
       "      <td>0</td>\n",
       "      <td>0</td>\n",
       "      <td>0</td>\n",
       "    </tr>\n",
       "    <tr>\n",
       "      <th>21593</th>\n",
       "      <td>7.745003</td>\n",
       "      <td>7.512071</td>\n",
       "      <td>7.745003</td>\n",
       "      <td>8.667852</td>\n",
       "      <td>8.881836</td>\n",
       "      <td>0</td>\n",
       "      <td>0</td>\n",
       "      <td>0</td>\n",
       "      <td>0</td>\n",
       "    </tr>\n",
       "    <tr>\n",
       "      <th>21594</th>\n",
       "      <td>6.927558</td>\n",
       "      <td>6.927558</td>\n",
       "      <td>6.927558</td>\n",
       "      <td>7.207860</td>\n",
       "      <td>7.604396</td>\n",
       "      <td>0</td>\n",
       "      <td>0</td>\n",
       "      <td>0</td>\n",
       "      <td>0</td>\n",
       "    </tr>\n",
       "    <tr>\n",
       "      <th>21595</th>\n",
       "      <td>7.377759</td>\n",
       "      <td>7.251345</td>\n",
       "      <td>7.377759</td>\n",
       "      <td>7.778211</td>\n",
       "      <td>7.160069</td>\n",
       "      <td>0</td>\n",
       "      <td>0</td>\n",
       "      <td>0</td>\n",
       "      <td>0</td>\n",
       "    </tr>\n",
       "    <tr>\n",
       "      <th>21596</th>\n",
       "      <td>6.927558</td>\n",
       "      <td>6.927558</td>\n",
       "      <td>6.927558</td>\n",
       "      <td>6.981006</td>\n",
       "      <td>7.213032</td>\n",
       "      <td>0</td>\n",
       "      <td>0</td>\n",
       "      <td>0</td>\n",
       "      <td>0</td>\n",
       "    </tr>\n",
       "  </tbody>\n",
       "</table>\n",
       "<p>21597 rows × 9 columns</p>\n",
       "</div>"
      ],
      "text/plain": [
       "       sqft_living  sqft_living15  sqft_above  sqft_lot  sqft_lot15  \\\n",
       "0         7.073270       7.200425    7.073270  8.639411    8.639411   \n",
       "1         7.851661       7.432484    7.682482  8.887653    8.941022   \n",
       "2         6.646391       7.908387    6.646391  9.210340    8.994917   \n",
       "3         7.580700       7.215240    6.956545  8.517193    8.517193   \n",
       "4         7.426549       7.495542    7.426549  8.997147    8.923058   \n",
       "...            ...            ...         ...       ...         ...   \n",
       "21592     7.333023       7.333023    7.333023  7.030857    7.319202   \n",
       "21593     7.745003       7.512071    7.745003  8.667852    8.881836   \n",
       "21594     6.927558       6.927558    6.927558  7.207860    7.604396   \n",
       "21595     7.377759       7.251345    7.377759  7.778211    7.160069   \n",
       "21596     6.927558       6.927558    6.927558  6.981006    7.213032   \n",
       "\n",
       "       condition_Fair  condition_Good  condition_Poor  condition_Very Good  \n",
       "0                   0               0               0                    0  \n",
       "1                   0               0               0                    0  \n",
       "2                   0               0               0                    0  \n",
       "3                   0               0               0                    1  \n",
       "4                   0               0               0                    0  \n",
       "...               ...             ...             ...                  ...  \n",
       "21592               0               0               0                    0  \n",
       "21593               0               0               0                    0  \n",
       "21594               0               0               0                    0  \n",
       "21595               0               0               0                    0  \n",
       "21596               0               0               0                    0  \n",
       "\n",
       "[21597 rows x 9 columns]"
      ]
     },
     "execution_count": 426,
     "metadata": {},
     "output_type": "execute_result"
    }
   ],
   "source": [
    "# dropping mpg because this is our target, then only selecting numeric features\n",
    "X_all = joined_data.drop([\"price\",\"condition_Average\"], axis=1)\n",
    "X_all"
   ]
  },
  {
   "cell_type": "code",
   "execution_count": 430,
   "metadata": {},
   "outputs": [
    {
     "name": "stdout",
     "output_type": "stream",
     "text": [
      "                            OLS Regression Results                            \n",
      "==============================================================================\n",
      "Dep. Variable:                  price   R-squared:                       0.506\n",
      "Model:                            OLS   Adj. R-squared:                  0.506\n",
      "Method:                 Least Squares   F-statistic:                     2455.\n",
      "Date:                Fri, 30 Sep 2022   Prob (F-statistic):               0.00\n",
      "Time:                        19:45:09   Log-Likelihood:                -9181.8\n",
      "No. Observations:               21597   AIC:                         1.838e+04\n",
      "Df Residuals:                   21587   BIC:                         1.846e+04\n",
      "Df Model:                           9                                         \n",
      "Covariance Type:            nonrobust                                         \n",
      "=======================================================================================\n",
      "                          coef    std err          t      P>|t|      [0.025      0.975]\n",
      "---------------------------------------------------------------------------------------\n",
      "const                   5.5706      0.059     93.935      0.000       5.454       5.687\n",
      "sqft_living             0.6317      0.013     48.783      0.000       0.606       0.657\n",
      "sqft_living15           0.4729      0.012     38.877      0.000       0.449       0.497\n",
      "sqft_above             -0.0070      0.012     -0.567      0.571      -0.031       0.017\n",
      "sqft_lot               -0.0195      0.007     -2.728      0.006      -0.034      -0.006\n",
      "sqft_lot15             -0.0736      0.008     -9.267      0.000      -0.089      -0.058\n",
      "condition_Fair         -0.1173      0.029     -4.076      0.000      -0.174      -0.061\n",
      "condition_Good          0.0611      0.006     10.118      0.000       0.049       0.073\n",
      "condition_Poor         -0.1361      0.069     -1.972      0.049      -0.271      -0.001\n",
      "condition_Very Good     0.1869      0.010     19.279      0.000       0.168       0.206\n",
      "==============================================================================\n",
      "Omnibus:                       62.221   Durbin-Watson:                   1.977\n",
      "Prob(Omnibus):                  0.000   Jarque-Bera (JB):               60.843\n",
      "Skew:                           0.115   Prob(JB):                     6.14e-14\n",
      "Kurtosis:                       2.878   Cond. No.                         499.\n",
      "==============================================================================\n",
      "\n",
      "Notes:\n",
      "[1] Standard Errors assume that the covariance matrix of the errors is correctly specified.\n"
     ]
    }
   ],
   "source": [
    "# modelling\n",
    "model5 = sm.OLS(new_data_norm[\"price\"],sm.add_constant(X_all))\n",
    "model5_fit = model5.fit()\n",
    "print(model5_fit.summary())"
   ]
  },
  {
   "cell_type": "markdown",
   "metadata": {},
   "source": [
    "### Interpretation of Results\n",
    "\n",
    "The model is statistically significant with all the coefficients, this is because they have a p value less than the level of siginificance except sqft_above and sqft_lot.\n",
    "The model has  R_squared of 50.6%, indicating that our dependent variables is explained 50.6% of the variance explained by the model.\n",
    "\n",
    "sqft_living and sqft_living15 affect the model positively, that is  when there is a one unit percentage increase holding all the other explanatory variables constant where sqft_living will make price to change by 0.6317% holding all other explanatory variable constant and sqft_living15 will make the price to change by 0.4729% and all the other explanatory variables makes price to decrease because they have a negative coeffients.\n",
    "\n",
    "Interpretation of condition_fair, condition_Good, condition_poor and  condition_very Good they are not same with the one above because their effect are comparable to condition_Average. Typically condition condition_poor and condition_fair are likely to have a negative effect on the prediction of prices because condition_Average is higher than the two,thus reason for having negative coefficients,condition_Good and condition_Very Good have a positive impact on condition average making it to influence price positively.\n",
    "\n",
    "The effect change of condition_Very Good is  0.1869 on condition_Average indicating it has more effect and the effect change of  condition_Good on condition_Average is 0.0611 indicating it weighs more higher effect on price.\n",
    "The effect of condition_poor is -0.1361 on condition_Average thus it indicates it has a reducing effect on pricing of houses and the effect of condition_Fair is -0.1173 indicating it has a negative impact on condition_Average."
   ]
  },
  {
   "cell_type": "markdown",
   "metadata": {},
   "source": [
    "## Final prediction model is:\n",
    "\n",
    "price = 5.5706 + 0.6317sqft_living+ 0.4729sqft_living15 - 0.0736sqft_lot15 - 0.1173condition_Fair + 0.0611condition_Good - 0.1361condition_Poor\t+ 0.1869condition_Very Good"
   ]
  },
  {
   "cell_type": "code",
   "execution_count": null,
   "metadata": {},
   "outputs": [],
   "source": []
  }
 ],
 "metadata": {
  "kernelspec": {
   "display_name": "Python 3",
   "language": "python",
   "name": "python3"
  },
  "language_info": {
   "codemirror_mode": {
    "name": "ipython",
    "version": 3
   },
   "file_extension": ".py",
   "mimetype": "text/x-python",
   "name": "python",
   "nbconvert_exporter": "python",
   "pygments_lexer": "ipython3",
   "version": "3.8.5"
  }
 },
 "nbformat": 4,
 "nbformat_minor": 2
}
